{
 "cells": [
  {
   "cell_type": "markdown",
   "metadata": {},
   "source": [
    "## Abstract\n",
    "\n",
    " 1. We are trying different imputation methods on the Titanic Dataset, and evaluating classifier accuracies for each of these. A package that we are using is fancyimpute.\n",
    " \n",
    " 2. To briefly describe how gradient boosting differs from bagging.To implement gradient boosting as invoked in scikit-learn, and to evaluate classifier accuracy for the Titanic dataset. \n",
    " \n",
    " 3. To theoretically, increasing the number of decision trees (n_estimators), increases classifier performance and/or generalizability. Hence to design and evaluate a computational experiment to test this, on the Titanic dataset.\n",
    " \n",
    " 4. To Pick any Kaggle regression dataset. Train, tune and evaluate performance of a Random Forest Regression model and to use the feature importance calculations from this to perform feature selection and to demonstrate this using the Kaggle regression dataset that has been picked."
   ]
  },
  {
   "cell_type": "markdown",
   "metadata": {},
   "source": [
    "## About the dataset \"House Prices\""
   ]
  },
  {
   "cell_type": "markdown",
   "metadata": {},
   "source": [
    "We are given a data set of 1,460 homes, each with a few dozen features of types: float, integer, and categorical. We are tasked with building a regression model to estimate a home's sale price. \n",
    "I'm going to use this problem as a way to explore common classifiers, namely:\n",
    "\n",
    "random trees and\n",
    "random forests.\n"
   ]
  },
  {
   "cell_type": "markdown",
   "metadata": {},
   "source": [
    "## Loading the libraries"
   ]
  },
  {
   "cell_type": "code",
   "execution_count": 2,
   "metadata": {},
   "outputs": [],
   "source": [
    "# This Python 3 environment comes with many helpful analytics libraries installed\n",
    "# It is defined by the kaggle/python docker image: https://github.com/kaggle/docker-python\n",
    "# For example, here's several helpful packages to load in \n",
    "\n",
    "import numpy as np # linear algebra\n",
    "import pandas as pd # data processing, CSV file I/O (e.g. pd.read_csv)\n",
    "import matplotlib.pyplot as plt # some plotting!\n",
    "import seaborn as sns # so pretty!\n",
    "from scipy import stats # I might use this\n",
    "from sklearn.ensemble import RandomForestClassifier # checking if this is available\n",
    "# from sklearn import cross_validation\n",
    "%matplotlib inline\n",
    "# Input data files are available in the \"../input/\" directory.\n",
    "# For example, running this (by clicking run or pressing Shift+Enter) will list the files in the input directory\n",
    "\n",
    "\n",
    "\n"
   ]
  },
  {
   "cell_type": "code",
   "execution_count": 4,
   "metadata": {},
   "outputs": [
    {
     "name": "stdout",
     "output_type": "stream",
     "text": [
      "<class 'pandas.core.frame.DataFrame'>\n",
      "RangeIndex: 1460 entries, 0 to 1459\n",
      "Data columns (total 81 columns):\n",
      "Id               1460 non-null int64\n",
      "MSSubClass       1460 non-null int64\n",
      "MSZoning         1460 non-null object\n",
      "LotFrontage      1201 non-null float64\n",
      "LotArea          1460 non-null int64\n",
      "Street           1460 non-null object\n",
      "Alley            91 non-null object\n",
      "LotShape         1460 non-null object\n",
      "LandContour      1460 non-null object\n",
      "Utilities        1460 non-null object\n",
      "LotConfig        1460 non-null object\n",
      "LandSlope        1460 non-null object\n",
      "Neighborhood     1460 non-null object\n",
      "Condition1       1460 non-null object\n",
      "Condition2       1460 non-null object\n",
      "BldgType         1460 non-null object\n",
      "HouseStyle       1460 non-null object\n",
      "OverallQual      1460 non-null int64\n",
      "OverallCond      1460 non-null int64\n",
      "YearBuilt        1460 non-null int64\n",
      "YearRemodAdd     1460 non-null int64\n",
      "RoofStyle        1460 non-null object\n",
      "RoofMatl         1460 non-null object\n",
      "Exterior1st      1460 non-null object\n",
      "Exterior2nd      1460 non-null object\n",
      "MasVnrType       1452 non-null object\n",
      "MasVnrArea       1452 non-null float64\n",
      "ExterQual        1460 non-null object\n",
      "ExterCond        1460 non-null object\n",
      "Foundation       1460 non-null object\n",
      "BsmtQual         1423 non-null object\n",
      "BsmtCond         1423 non-null object\n",
      "BsmtExposure     1422 non-null object\n",
      "BsmtFinType1     1423 non-null object\n",
      "BsmtFinSF1       1460 non-null int64\n",
      "BsmtFinType2     1422 non-null object\n",
      "BsmtFinSF2       1460 non-null int64\n",
      "BsmtUnfSF        1460 non-null int64\n",
      "TotalBsmtSF      1460 non-null int64\n",
      "Heating          1460 non-null object\n",
      "HeatingQC        1460 non-null object\n",
      "CentralAir       1460 non-null object\n",
      "Electrical       1459 non-null object\n",
      "1stFlrSF         1460 non-null int64\n",
      "2ndFlrSF         1460 non-null int64\n",
      "LowQualFinSF     1460 non-null int64\n",
      "GrLivArea        1460 non-null int64\n",
      "BsmtFullBath     1460 non-null int64\n",
      "BsmtHalfBath     1460 non-null int64\n",
      "FullBath         1460 non-null int64\n",
      "HalfBath         1460 non-null int64\n",
      "BedroomAbvGr     1460 non-null int64\n",
      "KitchenAbvGr     1460 non-null int64\n",
      "KitchenQual      1460 non-null object\n",
      "TotRmsAbvGrd     1460 non-null int64\n",
      "Functional       1460 non-null object\n",
      "Fireplaces       1460 non-null int64\n",
      "FireplaceQu      770 non-null object\n",
      "GarageType       1379 non-null object\n",
      "GarageYrBlt      1379 non-null float64\n",
      "GarageFinish     1379 non-null object\n",
      "GarageCars       1460 non-null int64\n",
      "GarageArea       1460 non-null int64\n",
      "GarageQual       1379 non-null object\n",
      "GarageCond       1379 non-null object\n",
      "PavedDrive       1460 non-null object\n",
      "WoodDeckSF       1460 non-null int64\n",
      "OpenPorchSF      1460 non-null int64\n",
      "EnclosedPorch    1460 non-null int64\n",
      "3SsnPorch        1460 non-null int64\n",
      "ScreenPorch      1460 non-null int64\n",
      "PoolArea         1460 non-null int64\n",
      "PoolQC           7 non-null object\n",
      "Fence            281 non-null object\n",
      "MiscFeature      54 non-null object\n",
      "MiscVal          1460 non-null int64\n",
      "MoSold           1460 non-null int64\n",
      "YrSold           1460 non-null int64\n",
      "SaleType         1460 non-null object\n",
      "SaleCondition    1460 non-null object\n",
      "SalePrice        1460 non-null int64\n",
      "dtypes: float64(3), int64(35), object(43)\n",
      "memory usage: 924.0+ KB\n"
     ]
    }
   ],
   "source": [
    "# import the training data set and make sure it's in correctly...\n",
    "train = pd.read_csv('train-2.csv')\n",
    "train_original = pd.read_csv('train-2.csv')\n",
    "test = pd.read_csv('test-2.csv')\n",
    "train.info()"
   ]
  },
  {
   "cell_type": "markdown",
   "metadata": {},
   "source": [
    "## Feature First Impressions\n",
    "\n",
    "It looks like we have integer, float, and object (categorical) features. Also, it looks like some of the features only pertain to a small portion of the 1,460 samples. For now, let's ignore those features where data is missing."
   ]
  },
  {
   "cell_type": "markdown",
   "metadata": {},
   "source": [
    "## Pre-processing Categorical Features\n",
    "\n",
    "Let's declare a quick function to convert categorical features into integer features, with the most common category of the feature being converted to integer 0, the next most common to 1, and so on. This may be useful later."
   ]
  },
  {
   "cell_type": "code",
   "execution_count": 5,
   "metadata": {},
   "outputs": [
    {
     "data": {
      "text/html": [
       "<div>\n",
       "<style scoped>\n",
       "    .dataframe tbody tr th:only-of-type {\n",
       "        vertical-align: middle;\n",
       "    }\n",
       "\n",
       "    .dataframe tbody tr th {\n",
       "        vertical-align: top;\n",
       "    }\n",
       "\n",
       "    .dataframe thead th {\n",
       "        text-align: right;\n",
       "    }\n",
       "</style>\n",
       "<table border=\"1\" class=\"dataframe\">\n",
       "  <thead>\n",
       "    <tr style=\"text-align: right;\">\n",
       "      <th></th>\n",
       "      <th>Id</th>\n",
       "      <th>MSSubClass</th>\n",
       "      <th>MSZoning</th>\n",
       "      <th>LotFrontage</th>\n",
       "      <th>LotArea</th>\n",
       "      <th>Street</th>\n",
       "      <th>Alley</th>\n",
       "      <th>LotShape</th>\n",
       "      <th>LandContour</th>\n",
       "      <th>Utilities</th>\n",
       "      <th>...</th>\n",
       "      <th>PoolArea</th>\n",
       "      <th>PoolQC</th>\n",
       "      <th>Fence</th>\n",
       "      <th>MiscFeature</th>\n",
       "      <th>MiscVal</th>\n",
       "      <th>MoSold</th>\n",
       "      <th>YrSold</th>\n",
       "      <th>SaleType</th>\n",
       "      <th>SaleCondition</th>\n",
       "      <th>SalePrice</th>\n",
       "    </tr>\n",
       "  </thead>\n",
       "  <tbody>\n",
       "    <tr>\n",
       "      <th>0</th>\n",
       "      <td>1</td>\n",
       "      <td>60</td>\n",
       "      <td>RL</td>\n",
       "      <td>65.0</td>\n",
       "      <td>8450</td>\n",
       "      <td>Pave</td>\n",
       "      <td>NaN</td>\n",
       "      <td>0</td>\n",
       "      <td>Lvl</td>\n",
       "      <td>AllPub</td>\n",
       "      <td>...</td>\n",
       "      <td>0</td>\n",
       "      <td>NaN</td>\n",
       "      <td>NaN</td>\n",
       "      <td>NaN</td>\n",
       "      <td>0</td>\n",
       "      <td>2</td>\n",
       "      <td>2008</td>\n",
       "      <td>WD</td>\n",
       "      <td>Normal</td>\n",
       "      <td>208500</td>\n",
       "    </tr>\n",
       "    <tr>\n",
       "      <th>1</th>\n",
       "      <td>2</td>\n",
       "      <td>20</td>\n",
       "      <td>RL</td>\n",
       "      <td>80.0</td>\n",
       "      <td>9600</td>\n",
       "      <td>Pave</td>\n",
       "      <td>NaN</td>\n",
       "      <td>0</td>\n",
       "      <td>Lvl</td>\n",
       "      <td>AllPub</td>\n",
       "      <td>...</td>\n",
       "      <td>0</td>\n",
       "      <td>NaN</td>\n",
       "      <td>NaN</td>\n",
       "      <td>NaN</td>\n",
       "      <td>0</td>\n",
       "      <td>5</td>\n",
       "      <td>2007</td>\n",
       "      <td>WD</td>\n",
       "      <td>Normal</td>\n",
       "      <td>181500</td>\n",
       "    </tr>\n",
       "    <tr>\n",
       "      <th>2</th>\n",
       "      <td>3</td>\n",
       "      <td>60</td>\n",
       "      <td>RL</td>\n",
       "      <td>68.0</td>\n",
       "      <td>11250</td>\n",
       "      <td>Pave</td>\n",
       "      <td>NaN</td>\n",
       "      <td>1</td>\n",
       "      <td>Lvl</td>\n",
       "      <td>AllPub</td>\n",
       "      <td>...</td>\n",
       "      <td>0</td>\n",
       "      <td>NaN</td>\n",
       "      <td>NaN</td>\n",
       "      <td>NaN</td>\n",
       "      <td>0</td>\n",
       "      <td>9</td>\n",
       "      <td>2008</td>\n",
       "      <td>WD</td>\n",
       "      <td>Normal</td>\n",
       "      <td>223500</td>\n",
       "    </tr>\n",
       "    <tr>\n",
       "      <th>3</th>\n",
       "      <td>4</td>\n",
       "      <td>70</td>\n",
       "      <td>RL</td>\n",
       "      <td>60.0</td>\n",
       "      <td>9550</td>\n",
       "      <td>Pave</td>\n",
       "      <td>NaN</td>\n",
       "      <td>1</td>\n",
       "      <td>Lvl</td>\n",
       "      <td>AllPub</td>\n",
       "      <td>...</td>\n",
       "      <td>0</td>\n",
       "      <td>NaN</td>\n",
       "      <td>NaN</td>\n",
       "      <td>NaN</td>\n",
       "      <td>0</td>\n",
       "      <td>2</td>\n",
       "      <td>2006</td>\n",
       "      <td>WD</td>\n",
       "      <td>Abnorml</td>\n",
       "      <td>140000</td>\n",
       "    </tr>\n",
       "    <tr>\n",
       "      <th>4</th>\n",
       "      <td>5</td>\n",
       "      <td>60</td>\n",
       "      <td>RL</td>\n",
       "      <td>84.0</td>\n",
       "      <td>14260</td>\n",
       "      <td>Pave</td>\n",
       "      <td>NaN</td>\n",
       "      <td>1</td>\n",
       "      <td>Lvl</td>\n",
       "      <td>AllPub</td>\n",
       "      <td>...</td>\n",
       "      <td>0</td>\n",
       "      <td>NaN</td>\n",
       "      <td>NaN</td>\n",
       "      <td>NaN</td>\n",
       "      <td>0</td>\n",
       "      <td>12</td>\n",
       "      <td>2008</td>\n",
       "      <td>WD</td>\n",
       "      <td>Normal</td>\n",
       "      <td>250000</td>\n",
       "    </tr>\n",
       "    <tr>\n",
       "      <th>5</th>\n",
       "      <td>6</td>\n",
       "      <td>50</td>\n",
       "      <td>RL</td>\n",
       "      <td>85.0</td>\n",
       "      <td>14115</td>\n",
       "      <td>Pave</td>\n",
       "      <td>NaN</td>\n",
       "      <td>1</td>\n",
       "      <td>Lvl</td>\n",
       "      <td>AllPub</td>\n",
       "      <td>...</td>\n",
       "      <td>0</td>\n",
       "      <td>NaN</td>\n",
       "      <td>MnPrv</td>\n",
       "      <td>Shed</td>\n",
       "      <td>700</td>\n",
       "      <td>10</td>\n",
       "      <td>2009</td>\n",
       "      <td>WD</td>\n",
       "      <td>Normal</td>\n",
       "      <td>143000</td>\n",
       "    </tr>\n",
       "    <tr>\n",
       "      <th>6</th>\n",
       "      <td>7</td>\n",
       "      <td>20</td>\n",
       "      <td>RL</td>\n",
       "      <td>75.0</td>\n",
       "      <td>10084</td>\n",
       "      <td>Pave</td>\n",
       "      <td>NaN</td>\n",
       "      <td>0</td>\n",
       "      <td>Lvl</td>\n",
       "      <td>AllPub</td>\n",
       "      <td>...</td>\n",
       "      <td>0</td>\n",
       "      <td>NaN</td>\n",
       "      <td>NaN</td>\n",
       "      <td>NaN</td>\n",
       "      <td>0</td>\n",
       "      <td>8</td>\n",
       "      <td>2007</td>\n",
       "      <td>WD</td>\n",
       "      <td>Normal</td>\n",
       "      <td>307000</td>\n",
       "    </tr>\n",
       "    <tr>\n",
       "      <th>7</th>\n",
       "      <td>8</td>\n",
       "      <td>60</td>\n",
       "      <td>RL</td>\n",
       "      <td>NaN</td>\n",
       "      <td>10382</td>\n",
       "      <td>Pave</td>\n",
       "      <td>NaN</td>\n",
       "      <td>1</td>\n",
       "      <td>Lvl</td>\n",
       "      <td>AllPub</td>\n",
       "      <td>...</td>\n",
       "      <td>0</td>\n",
       "      <td>NaN</td>\n",
       "      <td>NaN</td>\n",
       "      <td>Shed</td>\n",
       "      <td>350</td>\n",
       "      <td>11</td>\n",
       "      <td>2009</td>\n",
       "      <td>WD</td>\n",
       "      <td>Normal</td>\n",
       "      <td>200000</td>\n",
       "    </tr>\n",
       "    <tr>\n",
       "      <th>8</th>\n",
       "      <td>9</td>\n",
       "      <td>50</td>\n",
       "      <td>RM</td>\n",
       "      <td>51.0</td>\n",
       "      <td>6120</td>\n",
       "      <td>Pave</td>\n",
       "      <td>NaN</td>\n",
       "      <td>0</td>\n",
       "      <td>Lvl</td>\n",
       "      <td>AllPub</td>\n",
       "      <td>...</td>\n",
       "      <td>0</td>\n",
       "      <td>NaN</td>\n",
       "      <td>NaN</td>\n",
       "      <td>NaN</td>\n",
       "      <td>0</td>\n",
       "      <td>4</td>\n",
       "      <td>2008</td>\n",
       "      <td>WD</td>\n",
       "      <td>Abnorml</td>\n",
       "      <td>129900</td>\n",
       "    </tr>\n",
       "    <tr>\n",
       "      <th>9</th>\n",
       "      <td>10</td>\n",
       "      <td>190</td>\n",
       "      <td>RL</td>\n",
       "      <td>50.0</td>\n",
       "      <td>7420</td>\n",
       "      <td>Pave</td>\n",
       "      <td>NaN</td>\n",
       "      <td>0</td>\n",
       "      <td>Lvl</td>\n",
       "      <td>AllPub</td>\n",
       "      <td>...</td>\n",
       "      <td>0</td>\n",
       "      <td>NaN</td>\n",
       "      <td>NaN</td>\n",
       "      <td>NaN</td>\n",
       "      <td>0</td>\n",
       "      <td>1</td>\n",
       "      <td>2008</td>\n",
       "      <td>WD</td>\n",
       "      <td>Normal</td>\n",
       "      <td>118000</td>\n",
       "    </tr>\n",
       "  </tbody>\n",
       "</table>\n",
       "<p>10 rows × 81 columns</p>\n",
       "</div>"
      ],
      "text/plain": [
       "   Id  MSSubClass MSZoning  LotFrontage  LotArea Street Alley  LotShape  \\\n",
       "0   1          60       RL         65.0     8450   Pave   NaN         0   \n",
       "1   2          20       RL         80.0     9600   Pave   NaN         0   \n",
       "2   3          60       RL         68.0    11250   Pave   NaN         1   \n",
       "3   4          70       RL         60.0     9550   Pave   NaN         1   \n",
       "4   5          60       RL         84.0    14260   Pave   NaN         1   \n",
       "5   6          50       RL         85.0    14115   Pave   NaN         1   \n",
       "6   7          20       RL         75.0    10084   Pave   NaN         0   \n",
       "7   8          60       RL          NaN    10382   Pave   NaN         1   \n",
       "8   9          50       RM         51.0     6120   Pave   NaN         0   \n",
       "9  10         190       RL         50.0     7420   Pave   NaN         0   \n",
       "\n",
       "  LandContour Utilities    ...     PoolArea PoolQC  Fence MiscFeature MiscVal  \\\n",
       "0         Lvl    AllPub    ...            0    NaN    NaN         NaN       0   \n",
       "1         Lvl    AllPub    ...            0    NaN    NaN         NaN       0   \n",
       "2         Lvl    AllPub    ...            0    NaN    NaN         NaN       0   \n",
       "3         Lvl    AllPub    ...            0    NaN    NaN         NaN       0   \n",
       "4         Lvl    AllPub    ...            0    NaN    NaN         NaN       0   \n",
       "5         Lvl    AllPub    ...            0    NaN  MnPrv        Shed     700   \n",
       "6         Lvl    AllPub    ...            0    NaN    NaN         NaN       0   \n",
       "7         Lvl    AllPub    ...            0    NaN    NaN        Shed     350   \n",
       "8         Lvl    AllPub    ...            0    NaN    NaN         NaN       0   \n",
       "9         Lvl    AllPub    ...            0    NaN    NaN         NaN       0   \n",
       "\n",
       "  MoSold YrSold  SaleType  SaleCondition  SalePrice  \n",
       "0      2   2008        WD         Normal     208500  \n",
       "1      5   2007        WD         Normal     181500  \n",
       "2      9   2008        WD         Normal     223500  \n",
       "3      2   2006        WD        Abnorml     140000  \n",
       "4     12   2008        WD         Normal     250000  \n",
       "5     10   2009        WD         Normal     143000  \n",
       "6      8   2007        WD         Normal     307000  \n",
       "7     11   2009        WD         Normal     200000  \n",
       "8      4   2008        WD        Abnorml     129900  \n",
       "9      1   2008        WD         Normal     118000  \n",
       "\n",
       "[10 rows x 81 columns]"
      ]
     },
     "execution_count": 5,
     "metadata": {},
     "output_type": "execute_result"
    }
   ],
   "source": [
    "# define a function to convert an object (categorical) feature into an int feature\n",
    "# 0 = most common category, highest int = least common.\n",
    "def getObjectFeature(df, col, datalength=1460):\n",
    "    if df[col].dtype!='object': # if it's not categorical..\n",
    "        print('feature',col,'is not an object feature.')\n",
    "        return df\n",
    "    elif len([i for i in df[col].T.notnull() if i == True])!=datalength: # if there's missing data..\n",
    "        print('feature',col,'is missing data.')\n",
    "        return df\n",
    "    else:\n",
    "        df1 = df\n",
    "        counts = df1[col].value_counts() # get the counts for each label for the feature\n",
    "        df1[col] = [counts.index.tolist().index(i) for i in df1[col]] # do the conversion\n",
    "        return df1 # make the new (integer) column from the conversion\n",
    "# and test the function...\n",
    "fcntest = getObjectFeature(train,'LotShape')\n",
    "fcntest.head(10)"
   ]
  },
  {
   "cell_type": "markdown",
   "metadata": {},
   "source": [
    "## Target Variable Analysis: Is it Normal?\n",
    "\n",
    "So let's take a look at the Sale Price data and check for normality, and try to correct it otherwise..."
   ]
  },
  {
   "cell_type": "markdown",
   "metadata": {},
   "source": [
    "#histogram and normal probability plot\n",
    "from scipy.stats import norm\n",
    "sns.distplot(train['SalePrice'],fit=norm);\n",
    "fig = plt.figure()\n",
    "res = stats.probplot(train['SalePrice'], plot=plt)"
   ]
  },
  {
   "cell_type": "markdown",
   "metadata": {},
   "source": [
    "So, certainly not normal: we have right-skewness and the data is a bit peak-y. Let's apply a log transform on the data and see what happens"
   ]
  },
  {
   "cell_type": "code",
   "execution_count": 7,
   "metadata": {},
   "outputs": [
    {
     "data": {
      "image/png": "[encoded data removed]",
      "text/plain": [
       "<Figure size 432x288 with 1 Axes>"
      ]
     },
     "metadata": {
      "needs_background": "light"
     },
     "output_type": "display_data"
    },
    {
     "data": {
      "image/png": "[encoded data removed]",
      "text/plain": [
       "<Figure size 432x288 with 1 Axes>"
      ]
     },
     "metadata": {
      "needs_background": "light"
     },
     "output_type": "display_data"
    }
   ],
   "source": [
    "train['SalePrice'] = np.log(train['SalePrice'])\n",
    "sns.distplot(train['SalePrice'],fit=norm);\n",
    "fig = plt.figure()\n",
    "res = stats.probplot(train['SalePrice'], plot=plt)"
   ]
  },
  {
   "cell_type": "markdown",
   "metadata": {},
   "source": [
    "## A Better Fit!\n",
    "That looks much more normal, which will hopefully improve the regressions. We just have to remember to transform the output data back using an exponentiation before we submit anything."
   ]
  },
  {
   "cell_type": "markdown",
   "metadata": {},
   "source": [
    "## First things first: A Random Tree Regressor\n",
    "\n",
    "To start off, let's try to train a simple model using ONLY the features on the \"benchmark\" solution provided with the data for this competition. Those features are:\n",
    "\n",
    "Year and month of sale,\n",
    "Lot square footage, and\n",
    "Number of bedrooms.\n",
    "We will go for a very simple decision tree regression first. We can test for performance and overfitting using k-fold validation; here we take  k=10\n",
    " . First, we take the data and make it useful..."
   ]
  },
  {
   "cell_type": "code",
   "execution_count": 8,
   "metadata": {},
   "outputs": [
    {
     "name": "stdout",
     "output_type": "stream",
     "text": [
      "   MoSold  YrSold  LotArea  BedroomAbvGr\n",
      "0       2    2008     8450             3\n",
      "1       5    2007     9600             3\n",
      "2       9    2008    11250             3\n",
      "3       2    2006     9550             3\n",
      "4      12    2008    14260             4\n",
      "   SalePrice\n",
      "0  12.247694\n",
      "1  12.109011\n",
      "2  12.317167\n",
      "3  11.849398\n",
      "4  12.429216\n"
     ]
    }
   ],
   "source": [
    "from sklearn.tree import DecisionTreeRegressor as dtr\n",
    "# define the training data X...\n",
    "X = train[['MoSold','YrSold','LotArea','BedroomAbvGr']]\n",
    "Y = train[['SalePrice']]\n",
    "# and the data for the competition submission...\n",
    "X_test = test[['MoSold','YrSold','LotArea','BedroomAbvGr']]\n",
    "print(X.head())\n",
    "print(Y.head())"
   ]
  },
  {
   "cell_type": "markdown",
   "metadata": {},
   "source": [
    "... and now we can use cross validation to see how well a proposed regression model performs"
   ]
  },
  {
   "cell_type": "markdown",
   "metadata": {},
   "source": [
    "#### Explained Variance as a Performance Metric\n",
    "For now, we use explained variance,  EV\n",
    " , as a metric to evaluate the performance of a model:\n",
    "\n",
    " EV=1−Var(y−y¯)Var(y)\n",
    " \n",
    "\n",
    "where  y\n",
    "  is the true price,  y¯\n",
    "  is the estimated price from the model, and  Var(⋅)\n",
    "  is the variance. The  y¯\n",
    "  estimates come from predictions made on the data witheld from training in each round of cross-validation. \n",
    "\n",
    "Let's apply this metric..."
   ]
  },
  {
   "cell_type": "code",
   "execution_count": 9,
   "metadata": {},
   "outputs": [
    {
     "name": "stdout",
     "output_type": "stream",
     "text": [
      "scores for k=10 fold validation: [-0.5650522  -0.37753631 -0.24846402 -0.45562369 -0.11583522 -0.63405364\n",
      " -0.56805562 -0.43516945 -1.14840471 -0.2324867 ]\n",
      "Est. explained variance: -0.48 (+/- 0.55)\n"
     ]
    }
   ],
   "source": [
    "# let's set up some cross-validation analysis to evaluate our model and later models...\n",
    "from sklearn.model_selection import cross_val_score\n",
    "# try fitting a decision tree regression model...\n",
    "DTR_1 = dtr(max_depth=None) # declare the regression model form. Let the depth be default.\n",
    "# DTR_1.fit(X,Y) # fit the training data\n",
    "scores_dtr = cross_val_score(DTR_1, X, Y, cv=10,scoring='explained_variance') # 10-fold cross validation\n",
    "print('scores for k=10 fold validation:',scores_dtr)\n",
    "print(\"Est. explained variance: %0.2f (+/- %0.2f)\" % (scores_dtr.mean(), scores_dtr.std() * 2))"
   ]
  },
  {
   "cell_type": "markdown",
   "metadata": {},
   "source": [
    "## The Random Tree Regressor: A Terrible Model\n",
    "Wow, that's.... super bad. For explained variance, the best possible result is 1, which would correspond to  Var(y−yest)=0\n",
    " . Values below 1 indicate error in the regression. Negative values imply  Var(y−y¯)>Var(y)\n",
    " , which is frankly embarrasing."
   ]
  },
  {
   "cell_type": "markdown",
   "metadata": {},
   "source": [
    "## Seeing the Random Forest for the Trees\n",
    "So, using one tree is a bad idea... but what if we consider an ensemble of trees? Let's use a random forest regressor instead. We will consider forests with varying numbers of trees (estimators), each of which provides a weak regression solution that can be averaged to get the overall regression output. See: http://scikit-learn.org/stable/modules/generated/sklearn.ensemble.RandomForestRegressor.html"
   ]
  },
  {
   "cell_type": "code",
   "execution_count": 10,
   "metadata": {},
   "outputs": [
    {
     "name": "stdout",
     "output_type": "stream",
     "text": [
      "estimators: 2\n",
      "Est. explained variance: -0.15 (+/- 0.26)\n",
      "\n",
      "estimators: 5\n",
      "Est. explained variance: 0.00 (+/- 0.25)\n",
      "\n",
      "estimators: 10\n",
      "Est. explained variance: 0.10 (+/- 0.19)\n",
      "\n",
      "estimators: 15\n",
      "Est. explained variance: 0.13 (+/- 0.20)\n",
      "\n",
      "estimators: 20\n",
      "Est. explained variance: 0.15 (+/- 0.16)\n",
      "\n",
      "estimators: 25\n",
      "Est. explained variance: 0.14 (+/- 0.18)\n",
      "\n",
      "estimators: 30\n",
      "Est. explained variance: 0.13 (+/- 0.21)\n",
      "\n",
      "estimators: 35\n",
      "Est. explained variance: 0.16 (+/- 0.17)\n",
      "\n",
      "estimators: 40\n",
      "Est. explained variance: 0.15 (+/- 0.16)\n",
      "\n",
      "estimators: 45\n",
      "Est. explained variance: 0.16 (+/- 0.16)\n",
      "\n",
      "estimators: 50\n",
      "Est. explained variance: 0.15 (+/- 0.18)\n",
      "\n",
      "estimators: 55\n",
      "Est. explained variance: 0.16 (+/- 0.18)\n",
      "\n",
      "estimators: 60\n",
      "Est. explained variance: 0.16 (+/- 0.19)\n",
      "\n",
      "estimators: 65\n",
      "Est. explained variance: 0.15 (+/- 0.18)\n",
      "\n",
      "estimators: 70\n",
      "Est. explained variance: 0.16 (+/- 0.18)\n",
      "\n",
      "estimators: 75\n",
      "Est. explained variance: 0.16 (+/- 0.17)\n",
      "\n",
      "estimators: 80\n",
      "Est. explained variance: 0.16 (+/- 0.18)\n",
      "\n"
     ]
    }
   ],
   "source": [
    "from sklearn.ensemble import RandomForestRegressor as rfr\n",
    "estimators = [2, 5, 10, 15, 20, 25, 30, 35, 40, 45, 50, 55, 60, 65, 70, 75, 80]\n",
    "mean_rfrs = []\n",
    "std_rfrs_upper = []\n",
    "std_rfrs_lower = []\n",
    "yt = [i for i in Y['SalePrice']] # quick pre-processing of the target\n",
    "np.random.seed(11111)\n",
    "for i in estimators:\n",
    "    model = rfr(n_estimators=i,max_depth=None)\n",
    "    scores_rfr = cross_val_score(model,X,yt,cv=10,scoring='explained_variance')\n",
    "    print('estimators:',i)\n",
    "#     print('explained variance scores for k=10 fold validation:',scores_rfr)\n",
    "    print(\"Est. explained variance: %0.2f (+/- %0.2f)\" % (scores_rfr.mean(), scores_rfr.std() * 2))\n",
    "    print('')\n",
    "    mean_rfrs.append(scores_rfr.mean())\n",
    "    std_rfrs_upper.append(scores_rfr.mean()+scores_rfr.std()*2) # for error plotting\n",
    "    std_rfrs_lower.append(scores_rfr.mean()-scores_rfr.std()*2) # for error plotting"
   ]
  },
  {
   "cell_type": "code",
   "execution_count": 11,
   "metadata": {},
   "outputs": [
    {
     "data": {
      "image/png": "[encoded data removed]",
      "text/plain": [
       "<Figure size 864x576 with 1 Axes>"
      ]
     },
     "metadata": {
      "needs_background": "light"
     },
     "output_type": "display_data"
    }
   ],
   "source": [
    "# and plot...\n",
    "fig = plt.figure(figsize=(12,8))\n",
    "ax = fig.add_subplot(111)\n",
    "ax.plot(estimators,mean_rfrs,marker='o',\n",
    "       linewidth=4,markersize=12)\n",
    "ax.fill_between(estimators,std_rfrs_lower,std_rfrs_upper,\n",
    "                facecolor='green',alpha=0.3,interpolate=True)\n",
    "ax.set_ylim([-.3,1])\n",
    "ax.set_xlim([0,80])\n",
    "plt.title('Expected Variance of Random Forest Regressor')\n",
    "plt.ylabel('Expected Variance')\n",
    "plt.xlabel('Trees in Forest')\n",
    "plt.grid()\n",
    "plt.show()"
   ]
  },
  {
   "cell_type": "markdown",
   "metadata": {},
   "source": [
    "## Random Forests: A Slight Improvement a.k.a feature engineering\n",
    "Yeah, the results are still absolutely awful. But, at least the estimated means for explained variance are positive, which is a small improvement. We probably need more features, considering how poor even heavily populated forests perform. Let's start by adding a few more features and seeing what happens..."
   ]
  },
  {
   "cell_type": "code",
   "execution_count": 12,
   "metadata": {},
   "outputs": [
    {
     "name": "stderr",
     "output_type": "stream",
     "text": [
      "/anaconda3/lib/python3.7/site-packages/ipykernel_launcher.py:13: SettingWithCopyWarning: \n",
      "A value is trying to be set on a copy of a slice from a DataFrame.\n",
      "Try using .loc[row_indexer,col_indexer] = value instead\n",
      "\n",
      "See the caveats in the documentation: http://pandas.pydata.org/pandas-docs/stable/indexing.html#indexing-view-versus-copy\n",
      "  del sys.path[0]\n"
     ]
    },
    {
     "data": {
      "text/html": [
       "<div>\n",
       "<style scoped>\n",
       "    .dataframe tbody tr th:only-of-type {\n",
       "        vertical-align: middle;\n",
       "    }\n",
       "\n",
       "    .dataframe tbody tr th {\n",
       "        vertical-align: top;\n",
       "    }\n",
       "\n",
       "    .dataframe thead th {\n",
       "        text-align: right;\n",
       "    }\n",
       "</style>\n",
       "<table border=\"1\" class=\"dataframe\">\n",
       "  <thead>\n",
       "    <tr style=\"text-align: right;\">\n",
       "      <th></th>\n",
       "      <th>MoSold</th>\n",
       "      <th>YrSold</th>\n",
       "      <th>LotArea</th>\n",
       "      <th>BedroomAbvGr</th>\n",
       "      <th>FullBath</th>\n",
       "      <th>HalfBath</th>\n",
       "      <th>TotRmsAbvGrd</th>\n",
       "      <th>YearBuilt</th>\n",
       "      <th>YearRemodAdd</th>\n",
       "      <th>LotShape</th>\n",
       "      <th>Utilities</th>\n",
       "    </tr>\n",
       "  </thead>\n",
       "  <tbody>\n",
       "    <tr>\n",
       "      <th>0</th>\n",
       "      <td>2</td>\n",
       "      <td>2008</td>\n",
       "      <td>8450</td>\n",
       "      <td>3</td>\n",
       "      <td>2</td>\n",
       "      <td>1</td>\n",
       "      <td>8</td>\n",
       "      <td>2003</td>\n",
       "      <td>2003</td>\n",
       "      <td>0</td>\n",
       "      <td>0</td>\n",
       "    </tr>\n",
       "    <tr>\n",
       "      <th>1</th>\n",
       "      <td>5</td>\n",
       "      <td>2007</td>\n",
       "      <td>9600</td>\n",
       "      <td>3</td>\n",
       "      <td>2</td>\n",
       "      <td>0</td>\n",
       "      <td>6</td>\n",
       "      <td>1976</td>\n",
       "      <td>1976</td>\n",
       "      <td>0</td>\n",
       "      <td>0</td>\n",
       "    </tr>\n",
       "    <tr>\n",
       "      <th>2</th>\n",
       "      <td>9</td>\n",
       "      <td>2008</td>\n",
       "      <td>11250</td>\n",
       "      <td>3</td>\n",
       "      <td>2</td>\n",
       "      <td>1</td>\n",
       "      <td>6</td>\n",
       "      <td>2001</td>\n",
       "      <td>2002</td>\n",
       "      <td>1</td>\n",
       "      <td>0</td>\n",
       "    </tr>\n",
       "    <tr>\n",
       "      <th>3</th>\n",
       "      <td>2</td>\n",
       "      <td>2006</td>\n",
       "      <td>9550</td>\n",
       "      <td>3</td>\n",
       "      <td>1</td>\n",
       "      <td>0</td>\n",
       "      <td>7</td>\n",
       "      <td>1915</td>\n",
       "      <td>1970</td>\n",
       "      <td>1</td>\n",
       "      <td>0</td>\n",
       "    </tr>\n",
       "    <tr>\n",
       "      <th>4</th>\n",
       "      <td>12</td>\n",
       "      <td>2008</td>\n",
       "      <td>14260</td>\n",
       "      <td>4</td>\n",
       "      <td>2</td>\n",
       "      <td>1</td>\n",
       "      <td>9</td>\n",
       "      <td>2000</td>\n",
       "      <td>2000</td>\n",
       "      <td>1</td>\n",
       "      <td>0</td>\n",
       "    </tr>\n",
       "  </tbody>\n",
       "</table>\n",
       "</div>"
      ],
      "text/plain": [
       "   MoSold  YrSold  LotArea  BedroomAbvGr  FullBath  HalfBath  TotRmsAbvGrd  \\\n",
       "0       2    2008     8450             3         2         1             8   \n",
       "1       5    2007     9600             3         2         0             6   \n",
       "2       9    2008    11250             3         2         1             6   \n",
       "3       2    2006     9550             3         1         0             7   \n",
       "4      12    2008    14260             4         2         1             9   \n",
       "\n",
       "   YearBuilt  YearRemodAdd  LotShape  Utilities  \n",
       "0       2003          2003         0          0  \n",
       "1       1976          1976         0          0  \n",
       "2       2001          2002         1          0  \n",
       "3       1915          1970         1          0  \n",
       "4       2000          2000         1          0  "
      ]
     },
     "execution_count": 12,
     "metadata": {},
     "output_type": "execute_result"
    }
   ],
   "source": [
    "# list all the features we want. This is still arbitrary...\n",
    "included_features = ['MoSold','YrSold','LotArea','BedroomAbvGr', # original data\n",
    "                    'FullBath','HalfBath','TotRmsAbvGrd', # bathrooms and total rooms\n",
    "                    'YearBuilt','YearRemodAdd', # age of the house\n",
    "                    'LotShape','Utilities'] # some categoricals \n",
    "# define the training data X...\n",
    "X = train[included_features]\n",
    "Y = train[['SalePrice']]\n",
    "# and the data for the competition submission...\n",
    "X_test = test[included_features]\n",
    "# transform categorical data if included in X...\n",
    "for col in list(X):\n",
    "    if X[col].dtype=='object':\n",
    "        X = getObjectFeature(X, col)\n",
    "X.head()"
   ]
  },
  {
   "cell_type": "code",
   "execution_count": 13,
   "metadata": {},
   "outputs": [
    {
     "name": "stdout",
     "output_type": "stream",
     "text": [
      "estimators: 2\n",
      "Est. explained variance: 0.58 (+/- 0.16)\n",
      "\n",
      "estimators: 5\n",
      "Est. explained variance: 0.67 (+/- 0.09)\n",
      "\n",
      "estimators: 10\n",
      "Est. explained variance: 0.69 (+/- 0.10)\n",
      "\n",
      "estimators: 15\n",
      "Est. explained variance: 0.69 (+/- 0.09)\n",
      "\n",
      "estimators: 20\n",
      "Est. explained variance: 0.70 (+/- 0.08)\n",
      "\n",
      "estimators: 25\n",
      "Est. explained variance: 0.70 (+/- 0.10)\n",
      "\n",
      "estimators: 30\n",
      "Est. explained variance: 0.71 (+/- 0.08)\n",
      "\n",
      "estimators: 35\n",
      "Est. explained variance: 0.71 (+/- 0.09)\n",
      "\n",
      "estimators: 40\n",
      "Est. explained variance: 0.71 (+/- 0.10)\n",
      "\n",
      "estimators: 45\n",
      "Est. explained variance: 0.72 (+/- 0.09)\n",
      "\n",
      "estimators: 50\n",
      "Est. explained variance: 0.71 (+/- 0.09)\n",
      "\n",
      "estimators: 55\n",
      "Est. explained variance: 0.71 (+/- 0.09)\n",
      "\n",
      "estimators: 60\n",
      "Est. explained variance: 0.72 (+/- 0.10)\n",
      "\n",
      "estimators: 65\n",
      "Est. explained variance: 0.72 (+/- 0.08)\n",
      "\n",
      "estimators: 70\n",
      "Est. explained variance: 0.71 (+/- 0.09)\n",
      "\n",
      "estimators: 75\n",
      "Est. explained variance: 0.72 (+/- 0.09)\n",
      "\n",
      "estimators: 80\n",
      "Est. explained variance: 0.71 (+/- 0.09)\n",
      "\n"
     ]
    }
   ],
   "source": [
    "# define the number of estimators to consider\n",
    "estimators = [2, 5, 10, 15, 20, 25, 30, 35, 40, 45, 50, 55, 60, 65, 70, 75, 80]\n",
    "mean_rfrs = []\n",
    "std_rfrs_upper = []\n",
    "std_rfrs_lower = []\n",
    "yt = [i for i in Y['SalePrice']]\n",
    "np.random.seed(11111)\n",
    "# for each number of estimators, fit the model and find the results for 8-fold cross validation\n",
    "for i in estimators:\n",
    "    model = rfr(n_estimators=i,max_depth=None)\n",
    "    scores_rfr = cross_val_score(model,X,yt,cv=10,scoring='explained_variance')\n",
    "    print('estimators:',i)\n",
    "#     print('explained variance scores for k=10 fold validation:',scores_rfr)\n",
    "    print(\"Est. explained variance: %0.2f (+/- %0.2f)\" % (scores_rfr.mean(), scores_rfr.std() * 2))\n",
    "    print(\"\")\n",
    "    mean_rfrs.append(scores_rfr.mean())\n",
    "    std_rfrs_upper.append(scores_rfr.mean()+scores_rfr.std()*2) # for error plotting\n",
    "    std_rfrs_lower.append(scores_rfr.mean()-scores_rfr.std()*2) # for error plotting"
   ]
  },
  {
   "cell_type": "code",
   "execution_count": 14,
   "metadata": {},
   "outputs": [
    {
     "data": {
      "image/png": "[encoded data removed]",
      "text/plain": [
       "<Figure size 864x576 with 1 Axes>"
      ]
     },
     "metadata": {
      "needs_background": "light"
     },
     "output_type": "display_data"
    }
   ],
   "source": [
    "# and plot...\n",
    "fig = plt.figure(figsize=(12,8))\n",
    "ax = fig.add_subplot(111)\n",
    "ax.plot(estimators,mean_rfrs,marker='o',\n",
    "       linewidth=4,markersize=12)\n",
    "ax.fill_between(estimators,std_rfrs_lower,std_rfrs_upper,\n",
    "                facecolor='green',alpha=0.3,interpolate=True)\n",
    "ax.set_ylim([-.2,1])\n",
    "ax.set_xlim([0,80])\n",
    "plt.title('Expected Variance of Random Forest Regressor')\n",
    "plt.ylabel('Expected Variance')\n",
    "plt.xlabel('Trees in Forest')\n",
    "plt.grid()\n",
    "plt.show()"
   ]
  },
  {
   "cell_type": "markdown",
   "metadata": {},
   "source": [
    "Clearly better, but still pretty bad. At least we are moving in the right direction (towards expected variance of 1)."
   ]
  },
  {
   "cell_type": "markdown",
   "metadata": {},
   "source": [
    "## Scientific-ish Feature Analysis to Improve Random Forest Regressors\n",
    "Let's stick with random forest regression for now, but let's try to be more scientific about the features we select for training the forests. Let's do some feature analysis.\n",
    "\n",
    "First, let's collect all the available features and transform the categorical features where necessary...."
   ]
  },
  {
   "cell_type": "code",
   "execution_count": 16,
   "metadata": {},
   "outputs": [
    {
     "name": "stderr",
     "output_type": "stream",
     "text": [
      "/anaconda3/lib/python3.7/site-packages/ipykernel_launcher.py:13: SettingWithCopyWarning: \n",
      "A value is trying to be set on a copy of a slice from a DataFrame.\n",
      "Try using .loc[row_indexer,col_indexer] = value instead\n",
      "\n",
      "See the caveats in the documentation: http://pandas.pydata.org/pandas-docs/stable/indexing.html#indexing-view-versus-copy\n",
      "  del sys.path[0]\n"
     ]
    },
    {
     "data": {
      "text/html": [
       "<div>\n",
       "<style scoped>\n",
       "    .dataframe tbody tr th:only-of-type {\n",
       "        vertical-align: middle;\n",
       "    }\n",
       "\n",
       "    .dataframe tbody tr th {\n",
       "        vertical-align: top;\n",
       "    }\n",
       "\n",
       "    .dataframe thead th {\n",
       "        text-align: right;\n",
       "    }\n",
       "</style>\n",
       "<table border=\"1\" class=\"dataframe\">\n",
       "  <thead>\n",
       "    <tr style=\"text-align: right;\">\n",
       "      <th></th>\n",
       "      <th>Id</th>\n",
       "      <th>MSSubClass</th>\n",
       "      <th>MSZoning</th>\n",
       "      <th>LotArea</th>\n",
       "      <th>Street</th>\n",
       "      <th>LotShape</th>\n",
       "      <th>LandContour</th>\n",
       "      <th>Utilities</th>\n",
       "      <th>LotConfig</th>\n",
       "      <th>LandSlope</th>\n",
       "      <th>...</th>\n",
       "      <th>OpenPorchSF</th>\n",
       "      <th>EnclosedPorch</th>\n",
       "      <th>3SsnPorch</th>\n",
       "      <th>ScreenPorch</th>\n",
       "      <th>PoolArea</th>\n",
       "      <th>MiscVal</th>\n",
       "      <th>MoSold</th>\n",
       "      <th>YrSold</th>\n",
       "      <th>SaleType</th>\n",
       "      <th>SaleCondition</th>\n",
       "    </tr>\n",
       "  </thead>\n",
       "  <tbody>\n",
       "    <tr>\n",
       "      <th>0</th>\n",
       "      <td>1</td>\n",
       "      <td>60</td>\n",
       "      <td>0</td>\n",
       "      <td>8450</td>\n",
       "      <td>0</td>\n",
       "      <td>0</td>\n",
       "      <td>0</td>\n",
       "      <td>0</td>\n",
       "      <td>0</td>\n",
       "      <td>0</td>\n",
       "      <td>...</td>\n",
       "      <td>61</td>\n",
       "      <td>0</td>\n",
       "      <td>0</td>\n",
       "      <td>0</td>\n",
       "      <td>0</td>\n",
       "      <td>0</td>\n",
       "      <td>2</td>\n",
       "      <td>2008</td>\n",
       "      <td>0</td>\n",
       "      <td>0</td>\n",
       "    </tr>\n",
       "    <tr>\n",
       "      <th>1</th>\n",
       "      <td>2</td>\n",
       "      <td>20</td>\n",
       "      <td>0</td>\n",
       "      <td>9600</td>\n",
       "      <td>0</td>\n",
       "      <td>0</td>\n",
       "      <td>0</td>\n",
       "      <td>0</td>\n",
       "      <td>3</td>\n",
       "      <td>0</td>\n",
       "      <td>...</td>\n",
       "      <td>0</td>\n",
       "      <td>0</td>\n",
       "      <td>0</td>\n",
       "      <td>0</td>\n",
       "      <td>0</td>\n",
       "      <td>0</td>\n",
       "      <td>5</td>\n",
       "      <td>2007</td>\n",
       "      <td>0</td>\n",
       "      <td>0</td>\n",
       "    </tr>\n",
       "    <tr>\n",
       "      <th>2</th>\n",
       "      <td>3</td>\n",
       "      <td>60</td>\n",
       "      <td>0</td>\n",
       "      <td>11250</td>\n",
       "      <td>0</td>\n",
       "      <td>1</td>\n",
       "      <td>0</td>\n",
       "      <td>0</td>\n",
       "      <td>0</td>\n",
       "      <td>0</td>\n",
       "      <td>...</td>\n",
       "      <td>42</td>\n",
       "      <td>0</td>\n",
       "      <td>0</td>\n",
       "      <td>0</td>\n",
       "      <td>0</td>\n",
       "      <td>0</td>\n",
       "      <td>9</td>\n",
       "      <td>2008</td>\n",
       "      <td>0</td>\n",
       "      <td>0</td>\n",
       "    </tr>\n",
       "    <tr>\n",
       "      <th>3</th>\n",
       "      <td>4</td>\n",
       "      <td>70</td>\n",
       "      <td>0</td>\n",
       "      <td>9550</td>\n",
       "      <td>0</td>\n",
       "      <td>1</td>\n",
       "      <td>0</td>\n",
       "      <td>0</td>\n",
       "      <td>1</td>\n",
       "      <td>0</td>\n",
       "      <td>...</td>\n",
       "      <td>35</td>\n",
       "      <td>272</td>\n",
       "      <td>0</td>\n",
       "      <td>0</td>\n",
       "      <td>0</td>\n",
       "      <td>0</td>\n",
       "      <td>2</td>\n",
       "      <td>2006</td>\n",
       "      <td>0</td>\n",
       "      <td>2</td>\n",
       "    </tr>\n",
       "    <tr>\n",
       "      <th>4</th>\n",
       "      <td>5</td>\n",
       "      <td>60</td>\n",
       "      <td>0</td>\n",
       "      <td>14260</td>\n",
       "      <td>0</td>\n",
       "      <td>1</td>\n",
       "      <td>0</td>\n",
       "      <td>0</td>\n",
       "      <td>3</td>\n",
       "      <td>0</td>\n",
       "      <td>...</td>\n",
       "      <td>84</td>\n",
       "      <td>0</td>\n",
       "      <td>0</td>\n",
       "      <td>0</td>\n",
       "      <td>0</td>\n",
       "      <td>0</td>\n",
       "      <td>12</td>\n",
       "      <td>2008</td>\n",
       "      <td>0</td>\n",
       "      <td>0</td>\n",
       "    </tr>\n",
       "  </tbody>\n",
       "</table>\n",
       "<p>5 rows × 61 columns</p>\n",
       "</div>"
      ],
      "text/plain": [
       "   Id  MSSubClass  MSZoning  LotArea  Street  LotShape  LandContour  \\\n",
       "0   1          60         0     8450       0         0            0   \n",
       "1   2          20         0     9600       0         0            0   \n",
       "2   3          60         0    11250       0         1            0   \n",
       "3   4          70         0     9550       0         1            0   \n",
       "4   5          60         0    14260       0         1            0   \n",
       "\n",
       "   Utilities  LotConfig  LandSlope      ...        OpenPorchSF  EnclosedPorch  \\\n",
       "0          0          0          0      ...                 61              0   \n",
       "1          0          3          0      ...                  0              0   \n",
       "2          0          0          0      ...                 42              0   \n",
       "3          0          1          0      ...                 35            272   \n",
       "4          0          3          0      ...                 84              0   \n",
       "\n",
       "   3SsnPorch  ScreenPorch  PoolArea  MiscVal  MoSold  YrSold  SaleType  \\\n",
       "0          0            0         0        0       2    2008         0   \n",
       "1          0            0         0        0       5    2007         0   \n",
       "2          0            0         0        0       9    2008         0   \n",
       "3          0            0         0        0       2    2006         0   \n",
       "4          0            0         0        0      12    2008         0   \n",
       "\n",
       "   SaleCondition  \n",
       "0              0  \n",
       "1              0  \n",
       "2              0  \n",
       "3              2  \n",
       "4              0  \n",
       "\n",
       "[5 rows x 61 columns]"
      ]
     },
     "execution_count": 16,
     "metadata": {},
     "output_type": "execute_result"
    }
   ],
   "source": [
    "import sklearn.feature_selection as fs # feature selection library in scikit-learn\n",
    "train = pd.read_csv('train-2.csv') # get the training data again just in case\n",
    "train['SalePrice'] = np.log(train['SalePrice'])\n",
    "# first, let's include every feature that has data for all 1460 houses in the data set...\n",
    "included_features = [col for col in list(train)\n",
    "                    if len([i for i in train[col].T.notnull() if i == True])==1460\n",
    "                    and col!='SalePrice' and col!='id']\n",
    "# define the training data X...\n",
    "X = train[included_features] # the feature data\n",
    "Y = train[['SalePrice']] # the target\n",
    "yt = [i for i in Y['SalePrice']] # the target list \n",
    "# and the data for the competition submission...\n",
    "X_test = test[included_features]\n",
    "# transform categorical data if included in X...\n",
    "for col in list(X):\n",
    "    if X[col].dtype=='object':\n",
    "        X = getObjectFeature(X, col)\n",
    "X.head()\n",
    "# Y.head()"
   ]
  },
  {
   "cell_type": "markdown",
   "metadata": {},
   "source": [
    "## Mutual Information Regression Metric for Feature Ranking\n",
    "We will use mutual information regression for feature ranking and selection. This metric measures the dependence between two random variables, in this case each feature in the data set and the sales price regression target. Note that this doesn't consider combinations of feature values (for example, the dependence between sales price and the year of sale combined with overall quality), which may also be useful.\n",
    "\n",
    "See: http://scikit-learn.org/stable/modules/generated/sklearn.feature_selection.mutual_info_regression.html"
   ]
  },
  {
   "cell_type": "code",
   "execution_count": 17,
   "metadata": {},
   "outputs": [
    {
     "name": "stderr",
     "output_type": "stream",
     "text": [
      "/anaconda3/lib/python3.7/site-packages/sklearn/utils/validation.py:595: DataConversionWarning: Data with input dtype int64 was converted to float64 by the scale function.\n",
      "  warnings.warn(msg, DataConversionWarning)\n"
     ]
    },
    {
     "name": "stdout",
     "output_type": "stream",
     "text": [
      "[['OverallQual' '0.5136381721742793']\n",
      " ['GrLivArea' '0.3703627611744371']\n",
      " ['GarageCars' '0.36306786180931905']\n",
      " ['KitchenQual' '0.3338163973982087']\n",
      " ['ExterQual' '0.3287640972504198']\n",
      " ['GarageArea' '0.2885644188969745']\n",
      " ['TotalBsmtSF' '0.2659845106806378']\n",
      " ['FullBath' '0.2622707877138404']\n",
      " ['1stFlrSF' '0.2619947306281647']\n",
      " ['YearBuilt' '0.2596084333686104']\n",
      " ['YearRemodAdd' '0.1960082277699473']\n",
      " ['Foundation' '0.19562658098485675']\n",
      " ['TotRmsAbvGrd' '0.1915020533249101']\n",
      " ['Fireplaces' '0.17031997732270887']\n",
      " ['HeatingQC' '0.16995592191050113']\n",
      " ['BsmtFinSF1' '0.13108811121442643']\n",
      " ['MSZoning' '0.12148616668761925']\n",
      " ['OverallCond' '0.11349373486797587']\n",
      " ['2ndFlrSF' '0.10867375088832265']\n",
      " ['LotShape' '0.0979153207264496']\n",
      " ['HalfBath' '0.08768083621946698']\n",
      " ['LotArea' '0.08751873685816003']\n",
      " ['SaleType' '0.07861772114711596']\n",
      " ['SaleCondition' '0.07460727173171389']\n",
      " ['BedroomAbvGr' '0.0676400172657381']\n",
      " ['CentralAir' '0.06392230608117333']\n",
      " ['MSSubClass' '0.062148659699976516']\n",
      " ['OpenPorchSF' '0.05792272825314737']\n",
      " ['HouseStyle' '0.050648733624558684']\n",
      " ['BsmtUnfSF' '0.050405165246758976']\n",
      " ['PavedDrive' '0.050023798748715764']\n",
      " ['WoodDeckSF' '0.047013918082225103']\n",
      " ['Neighborhood' '0.04533625241586803']\n",
      " ['BldgType' '0.043014236558742924']\n",
      " ['Exterior2nd' '0.03190929610856186']\n",
      " ['LandContour' '0.02914699396557552']\n",
      " ['Exterior1st' '0.027639276527149814']\n",
      " ['ExterCond' '0.023178101995340095']\n",
      " ['BsmtFullBath' '0.022159283894149784']\n",
      " ['EnclosedPorch' '0.02102498148210108']\n",
      " ['KitchenAbvGr' '0.017356550178447616']\n",
      " ['LotConfig' '0.01623679140129264']\n",
      " ['Condition1' '0.016227790056784874']\n",
      " ['BsmtHalfBath' '0.015723598437626052']\n",
      " ['YrSold' '0.014816807327972636']\n",
      " ['ScreenPorch' '0.012872782506253566']\n",
      " ['Heating' '0.012577351462557784']\n",
      " ['RoofStyle' '0.011428982952545796']\n",
      " ['RoofMatl' '0.007308228404780737']\n",
      " ['Functional' '0.0069449750136429955']\n",
      " ['LandSlope' '0.0035043313189453418']\n",
      " ['Condition2' '0.0011899752051792722']\n",
      " ['LowQualFinSF' '0.0005789776828033499']\n",
      " ['Street' '0.00032923710231047565']\n",
      " ['3SsnPorch' '4.0099059268605686e-06']\n",
      " ['Id' '0.0']\n",
      " ['Utilities' '0.0']\n",
      " ['BsmtFinSF2' '0.0']\n",
      " ['PoolArea' '0.0']\n",
      " ['MiscVal' '0.0']\n",
      " ['MoSold' '0.0']]\n"
     ]
    }
   ],
   "source": [
    "mir_result = fs.mutual_info_regression(X, yt) # mutual information regression feature ordering\n",
    "feature_scores = []\n",
    "for i in np.arange(len(included_features)):\n",
    "    feature_scores.append([included_features[i],mir_result[i]])\n",
    "sorted_scores = sorted(np.array(feature_scores), key=lambda s: float(s[1]), reverse=True) \n",
    "print(np.array(sorted_scores))"
   ]
  },
  {
   "cell_type": "markdown",
   "metadata": {},
   "source": [
    "## MIR Results: What do homebuyers care about?\n",
    "Well, it seems like the most important factors (with respect to sales price) are overall quality, amount of living area, garage car capacity, kitchen quality, and exterior material quality. These seem like fairly intuitve results, at least for somebody with a distant notion of what matters when selecting a house (me).\n",
    "\n",
    "Let's plot the results next to each other for a better visualization..."
   ]
  },
  {
   "cell_type": "code",
   "execution_count": 18,
   "metadata": {},
   "outputs": [
    {
     "data": {
      "image/png": "[encoded data removed]",
      "text/plain": [
       "<Figure size 936x432 with 1 Axes>"
      ]
     },
     "metadata": {
      "needs_background": "light"
     },
     "output_type": "display_data"
    }
   ],
   "source": [
    "# and plot...\n",
    "fig = plt.figure(figsize=(13,6))\n",
    "ax = fig.add_subplot(111)\n",
    "ind = np.arange(len(included_features))\n",
    "plt.bar(ind,[float(i) for i in np.array(sorted_scores)[:,1]])\n",
    "ax.axes.set_xticks(ind)\n",
    "plt.title('Feature Importances (Mutual Information Regression)')\n",
    "plt.ylabel('Importance')\n",
    "# plt.xlabel('Trees in Forest')\n",
    "# plt.grid()\n",
    "plt.show()"
   ]
  },
  {
   "cell_type": "markdown",
   "metadata": {},
   "source": [
    "## Feature Pruning\n",
    "\n",
    "Pruning is a technique in machine learning that reduces the size of decision trees by removing sections of the tree that provide little power to classify instances. Pruning reduces the complexity of the final classifier, and hence improves predictive accuracy by the reduction of overfitting.\n",
    "\n",
    "It seems like the top few dozen features are fairly important... let's take the top 15, 20, 30, 40, and 50 features to train the random forest regressor model we've been working with and compare the performances. We will wrap the necessary model building and plotting code in functions first."
   ]
  },
  {
   "cell_type": "code",
   "execution_count": 19,
   "metadata": {},
   "outputs": [],
   "source": [
    "# define a function to do the necessary model building....\n",
    "def getModel(sorted_scores,train,numFeatures):\n",
    "    included_features = np.array(sorted_scores)[:,0][:numFeatures] # ordered list of important features\n",
    "    # define the training data X...\n",
    "    X = train[included_features]\n",
    "    Y = train[['SalePrice']]\n",
    "    # transform categorical data if included in X...\n",
    "    for col in list(X):\n",
    "        if X[col].dtype=='object':\n",
    "            X = getObjectFeature(X, col)\n",
    "    # define the number of estimators to consider\n",
    "    estimators = [2, 5, 10, 15, 20, 25, 30, 35, 40, 45, 50, 55, 60, 65, 70, 75, 80]\n",
    "    mean_rfrs = []\n",
    "    std_rfrs_upper = []\n",
    "    std_rfrs_lower = []\n",
    "    yt = [i for i in Y['SalePrice']]\n",
    "    np.random.seed(11111)\n",
    "    # for each number of estimators, fit the model and find the results for 8-fold cross validation\n",
    "    for i in estimators:\n",
    "        model = rfr(n_estimators=i,max_depth=None)\n",
    "        scores_rfr = cross_val_score(model,X,yt,cv=10,scoring='explained_variance')\n",
    "        mean_rfrs.append(scores_rfr.mean())\n",
    "        std_rfrs_upper.append(scores_rfr.mean()+scores_rfr.std()*2) # for error plotting\n",
    "        std_rfrs_lower.append(scores_rfr.mean()-scores_rfr.std()*2) # for error plotting\n",
    "    return mean_rfrs,std_rfrs_upper,std_rfrs_lower\n",
    "\n",
    "# define a function to plot the model expected variance results...\n",
    "def plotResults(mean_rfrs,std_rfrs_upper,std_rfrs_lower,numFeatures):\n",
    "    fig = plt.figure(figsize=(12,8))\n",
    "    ax = fig.add_subplot(111)\n",
    "    ax.plot(estimators,mean_rfrs,marker='o',\n",
    "           linewidth=4,markersize=12)\n",
    "    ax.fill_between(estimators,std_rfrs_lower,std_rfrs_upper,\n",
    "                    facecolor='green',alpha=0.3,interpolate=True)\n",
    "    ax.set_ylim([-.2,1])\n",
    "    ax.set_xlim([0,80])\n",
    "    plt.title('Expected Variance of Random Forest Regressor: Top %d Features'%numFeatures)\n",
    "    plt.ylabel('Expected Variance')\n",
    "    plt.xlabel('Trees in Forest')\n",
    "    plt.grid()\n",
    "    plt.show()\n",
    "    return"
   ]
  },
  {
   "cell_type": "markdown",
   "metadata": {},
   "source": [
    "...and let's run the regression model fitting for each of the scenarios listed before..."
   ]
  },
  {
   "cell_type": "code",
   "execution_count": 20,
   "metadata": {},
   "outputs": [
    {
     "name": "stderr",
     "output_type": "stream",
     "text": [
      "/anaconda3/lib/python3.7/site-packages/ipykernel_launcher.py:13: SettingWithCopyWarning: \n",
      "A value is trying to be set on a copy of a slice from a DataFrame.\n",
      "Try using .loc[row_indexer,col_indexer] = value instead\n",
      "\n",
      "See the caveats in the documentation: http://pandas.pydata.org/pandas-docs/stable/indexing.html#indexing-view-versus-copy\n",
      "  del sys.path[0]\n"
     ]
    },
    {
     "data": {
      "image/png": "[encoded data removed]",
      "text/plain": [
       "<Figure size 864x576 with 1 Axes>"
      ]
     },
     "metadata": {
      "needs_background": "light"
     },
     "output_type": "display_data"
    }
   ],
   "source": [
    "# top 15...\n",
    "mean_rfrs,std_rfrs_upper,std_rfrs_lower = getModel(sorted_scores,train,15)\n",
    "plotResults(mean_rfrs,std_rfrs_upper,std_rfrs_lower,15)"
   ]
  },
  {
   "cell_type": "code",
   "execution_count": 21,
   "metadata": {},
   "outputs": [
    {
     "name": "stderr",
     "output_type": "stream",
     "text": [
      "/anaconda3/lib/python3.7/site-packages/ipykernel_launcher.py:13: SettingWithCopyWarning: \n",
      "A value is trying to be set on a copy of a slice from a DataFrame.\n",
      "Try using .loc[row_indexer,col_indexer] = value instead\n",
      "\n",
      "See the caveats in the documentation: http://pandas.pydata.org/pandas-docs/stable/indexing.html#indexing-view-versus-copy\n",
      "  del sys.path[0]\n"
     ]
    },
    {
     "data": {
      "image/png": "[encoded data removed]",
      "text/plain": [
       "<Figure size 864x576 with 1 Axes>"
      ]
     },
     "metadata": {
      "needs_background": "light"
     },
     "output_type": "display_data"
    }
   ],
   "source": [
    "# top 20...\n",
    "mean_rfrs,std_rfrs_upper,std_rfrs_lower = getModel(sorted_scores,train,20)\n",
    "plotResults(mean_rfrs,std_rfrs_upper,std_rfrs_lower,20)"
   ]
  },
  {
   "cell_type": "code",
   "execution_count": 22,
   "metadata": {},
   "outputs": [
    {
     "name": "stderr",
     "output_type": "stream",
     "text": [
      "/anaconda3/lib/python3.7/site-packages/ipykernel_launcher.py:13: SettingWithCopyWarning: \n",
      "A value is trying to be set on a copy of a slice from a DataFrame.\n",
      "Try using .loc[row_indexer,col_indexer] = value instead\n",
      "\n",
      "See the caveats in the documentation: http://pandas.pydata.org/pandas-docs/stable/indexing.html#indexing-view-versus-copy\n",
      "  del sys.path[0]\n"
     ]
    },
    {
     "data": {
      "image/png": "[encoded data removed]",
      "text/plain": [
       "<Figure size 864x576 with 1 Axes>"
      ]
     },
     "metadata": {
      "needs_background": "light"
     },
     "output_type": "display_data"
    }
   ],
   "source": [
    "# top 30...\n",
    "mean_rfrs,std_rfrs_upper,std_rfrs_lower = getModel(sorted_scores,train,30)\n",
    "plotResults(mean_rfrs,std_rfrs_upper,std_rfrs_lower,30)"
   ]
  },
  {
   "cell_type": "code",
   "execution_count": 23,
   "metadata": {},
   "outputs": [
    {
     "name": "stderr",
     "output_type": "stream",
     "text": [
      "/anaconda3/lib/python3.7/site-packages/ipykernel_launcher.py:13: SettingWithCopyWarning: \n",
      "A value is trying to be set on a copy of a slice from a DataFrame.\n",
      "Try using .loc[row_indexer,col_indexer] = value instead\n",
      "\n",
      "See the caveats in the documentation: http://pandas.pydata.org/pandas-docs/stable/indexing.html#indexing-view-versus-copy\n",
      "  del sys.path[0]\n"
     ]
    },
    {
     "data": {
      "image/png": "[encoded data removed]",
      "text/plain": [
       "<Figure size 864x576 with 1 Axes>"
      ]
     },
     "metadata": {
      "needs_background": "light"
     },
     "output_type": "display_data"
    }
   ],
   "source": [
    "# top 40...\n",
    "mean_rfrs,std_rfrs_upper,std_rfrs_lower = getModel(sorted_scores,train,40)\n",
    "plotResults(mean_rfrs,std_rfrs_upper,std_rfrs_lower,40)"
   ]
  },
  {
   "cell_type": "code",
   "execution_count": 24,
   "metadata": {},
   "outputs": [
    {
     "name": "stderr",
     "output_type": "stream",
     "text": [
      "/anaconda3/lib/python3.7/site-packages/ipykernel_launcher.py:13: SettingWithCopyWarning: \n",
      "A value is trying to be set on a copy of a slice from a DataFrame.\n",
      "Try using .loc[row_indexer,col_indexer] = value instead\n",
      "\n",
      "See the caveats in the documentation: http://pandas.pydata.org/pandas-docs/stable/indexing.html#indexing-view-versus-copy\n",
      "  del sys.path[0]\n"
     ]
    },
    {
     "data": {
      "image/png": "[encoded data removed]",
      "text/plain": [
       "<Figure size 864x576 with 1 Axes>"
      ]
     },
     "metadata": {
      "needs_background": "light"
     },
     "output_type": "display_data"
    }
   ],
   "source": [
    "# top 50...\n",
    "mean_rfrs,std_rfrs_upper,std_rfrs_lower = getModel(sorted_scores,train,50)\n",
    "plotResults(mean_rfrs,std_rfrs_upper,std_rfrs_lower,50)"
   ]
  },
  {
   "cell_type": "markdown",
   "metadata": {},
   "source": [
    "## Random Forest Regression Impressions\n",
    "\n",
    "It seems like the mean expected variance of the regressions stops improving at around 20 features and 20 to 30 trees in the forest. The deviation in the expected variance score decreases with increasing features, which is intuitive. The 40-feature and 50-feature results look almost identical, probably because the 40th- to 50th-most important features are barely significant. Let's only consider the top 40 features from here on out."
   ]
  },
  {
   "cell_type": "markdown",
   "metadata": {},
   "source": [
    "## The Finale: Building the Output for Submission\n",
    "\n",
    "Now, let's take the best regression model we have and build theoutput. For this model, we have:\n",
    "\n",
    ". A random forest resgression model, incorporating\n",
    ". the 40 most prominent features according to an MIR analysis, and\n",
    ". 60 regressor trees per forest, and\n",
    ". the default sklearn settings for the rest of the model parameters.\n",
    "So let's apply this model to the test data and generate the submission!"
   ]
  },
  {
   "cell_type": "code",
   "execution_count": 25,
   "metadata": {},
   "outputs": [
    {
     "name": "stderr",
     "output_type": "stream",
     "text": [
      "/anaconda3/lib/python3.7/site-packages/ipykernel_launcher.py:13: SettingWithCopyWarning: \n",
      "A value is trying to be set on a copy of a slice from a DataFrame.\n",
      "Try using .loc[row_indexer,col_indexer] = value instead\n",
      "\n",
      "See the caveats in the documentation: http://pandas.pydata.org/pandas-docs/stable/indexing.html#indexing-view-versus-copy\n",
      "  del sys.path[0]\n"
     ]
    },
    {
     "name": "stdout",
     "output_type": "stream",
     "text": [
      "explained variance scores for k=10 fold validation: [0.84304271 0.89696047 0.89515041 0.84035125 0.86654253 0.90106678\n",
      " 0.88500114 0.9009358  0.851164   0.85945367]\n",
      "Est. explained variance: 0.87 (+/- 0.05)\n"
     ]
    }
   ],
   "source": [
    "# build the model with the desired parameters...\n",
    "numFeatures = 40 # the number of features to inlcude\n",
    "trees = 60 # trees in the forest\n",
    "included_features = np.array(sorted_scores)[:,0][:numFeatures]\n",
    "# define the training data X...\n",
    "X = train[included_features]\n",
    "Y = train[['SalePrice']]\n",
    "# transform categorical data if included in X...\n",
    "for col in list(X):\n",
    "    if X[col].dtype=='object':\n",
    "        X = getObjectFeature(X, col)\n",
    "yt = [i for i in Y['SalePrice']]\n",
    "np.random.seed(11111)\n",
    "model = rfr(n_estimators=trees,max_depth=None)\n",
    "scores_rfr = cross_val_score(model,X,yt,cv=10,scoring='explained_variance')\n",
    "print('explained variance scores for k=10 fold validation:',scores_rfr)\n",
    "print(\"Est. explained variance: %0.2f (+/- %0.2f)\" % (scores_rfr.mean(), scores_rfr.std() * 2))\n",
    "# fit the model"
   ]
  },
  {
   "cell_type": "code",
   "execution_count": 26,
   "metadata": {},
   "outputs": [
    {
     "data": {
      "text/plain": [
       "RandomForestRegressor(bootstrap=True, criterion='mse', max_depth=None,\n",
       "           max_features='auto', max_leaf_nodes=None,\n",
       "           min_impurity_decrease=0.0, min_impurity_split=None,\n",
       "           min_samples_leaf=1, min_samples_split=2,\n",
       "           min_weight_fraction_leaf=0.0, n_estimators=60, n_jobs=None,\n",
       "           oob_score=False, random_state=None, verbose=0, warm_start=False)"
      ]
     },
     "execution_count": 26,
     "metadata": {},
     "output_type": "execute_result"
    }
   ],
   "source": [
    "model.fit(X,yt)"
   ]
  },
  {
   "cell_type": "code",
   "execution_count": 27,
   "metadata": {},
   "outputs": [],
   "source": [
    "# let's read the test data to be sure...\n",
    "test = pd.read_csv('test-2.csv')"
   ]
  },
  {
   "cell_type": "markdown",
   "metadata": {},
   "source": [
    "We will tweak the pre-processing function from before to handle missing data better, too."
   ]
  },
  {
   "cell_type": "code",
   "execution_count": 28,
   "metadata": {},
   "outputs": [],
   "source": [
    "# re-define a function to convert an object (categorical) feature into an int feature\n",
    "# 0 = most common category, highest int = least common.\n",
    "def getObjectFeature(df, col, datalength=1460):\n",
    "    if df[col].dtype!='object': # if it's not categorical..\n",
    "        print('feature',col,'is not an object feature.')\n",
    "        return df\n",
    "    else:\n",
    "        df1 = df\n",
    "        counts = df1[col].value_counts() # get the counts for each label for the feature\n",
    "#         print(col,'labels, common to rare:',counts.index.tolist()) # get an ordered list of the labels\n",
    "        df1[col] = [counts.index.tolist().index(i) \n",
    "                    if i in counts.index.tolist() \n",
    "                    else 0 \n",
    "                    for i in df1[col] ] # do the conversion\n",
    "        return df1 # make the new (integer) column from the conversion"
   ]
  },
  {
   "cell_type": "code",
   "execution_count": 29,
   "metadata": {},
   "outputs": [
    {
     "name": "stderr",
     "output_type": "stream",
     "text": [
      "/anaconda3/lib/python3.7/site-packages/ipykernel_launcher.py:14: SettingWithCopyWarning: \n",
      "A value is trying to be set on a copy of a slice from a DataFrame.\n",
      "Try using .loc[row_indexer,col_indexer] = value instead\n",
      "\n",
      "See the caveats in the documentation: http://pandas.pydata.org/pandas-docs/stable/indexing.html#indexing-view-versus-copy\n",
      "  \n"
     ]
    },
    {
     "name": "stdout",
     "output_type": "stream",
     "text": [
      "[11.76822797 11.94919342 12.08405591 ... 11.96282689 11.66081124\n",
      " 12.35694295]\n"
     ]
    }
   ],
   "source": [
    "# apply the model to the test data and get the output...\n",
    "X_test = test[included_features]\n",
    "for col in list(X_test):\n",
    "    if X_test[col].dtype=='object':\n",
    "        X_test = getObjectFeature(X_test, col, datalength=1459)\n",
    "# print(X_test.head(20))\n",
    "y_output = model.predict(X_test.fillna(0)) # get the results and fill nan's with 0\n",
    "print(y_output)"
   ]
  },
  {
   "cell_type": "code",
   "execution_count": 30,
   "metadata": {},
   "outputs": [
    {
     "name": "stdout",
     "output_type": "stream",
     "text": [
      "[129085.20499411 154692.32524098 177026.71044553 ... 156815.76003756\n",
      " 115938.04625134 232569.16742414]\n"
     ]
    }
   ],
   "source": [
    "# transform the data to be sure\n",
    "y_output = np.exp(y_output)\n",
    "print(y_output)"
   ]
  },
  {
   "cell_type": "code",
   "execution_count": 31,
   "metadata": {},
   "outputs": [
    {
     "data": {
      "text/html": [
       "<div>\n",
       "<style scoped>\n",
       "    .dataframe tbody tr th:only-of-type {\n",
       "        vertical-align: middle;\n",
       "    }\n",
       "\n",
       "    .dataframe tbody tr th {\n",
       "        vertical-align: top;\n",
       "    }\n",
       "\n",
       "    .dataframe thead th {\n",
       "        text-align: right;\n",
       "    }\n",
       "</style>\n",
       "<table border=\"1\" class=\"dataframe\">\n",
       "  <thead>\n",
       "    <tr style=\"text-align: right;\">\n",
       "      <th></th>\n",
       "      <th>Id</th>\n",
       "      <th>SalePrice</th>\n",
       "    </tr>\n",
       "  </thead>\n",
       "  <tbody>\n",
       "    <tr>\n",
       "      <th>0</th>\n",
       "      <td>1461</td>\n",
       "      <td>129085.204994</td>\n",
       "    </tr>\n",
       "    <tr>\n",
       "      <th>1</th>\n",
       "      <td>1462</td>\n",
       "      <td>154692.325241</td>\n",
       "    </tr>\n",
       "    <tr>\n",
       "      <th>2</th>\n",
       "      <td>1463</td>\n",
       "      <td>177026.710446</td>\n",
       "    </tr>\n",
       "    <tr>\n",
       "      <th>3</th>\n",
       "      <td>1464</td>\n",
       "      <td>181290.564512</td>\n",
       "    </tr>\n",
       "    <tr>\n",
       "      <th>4</th>\n",
       "      <td>1465</td>\n",
       "      <td>191958.376230</td>\n",
       "    </tr>\n",
       "  </tbody>\n",
       "</table>\n",
       "</div>"
      ],
      "text/plain": [
       "     Id      SalePrice\n",
       "0  1461  129085.204994\n",
       "1  1462  154692.325241\n",
       "2  1463  177026.710446\n",
       "3  1464  181290.564512\n",
       "4  1465  191958.376230"
      ]
     },
     "execution_count": 31,
     "metadata": {},
     "output_type": "execute_result"
    }
   ],
   "source": [
    "# define the data frame for the results\n",
    "saleprice = pd.DataFrame(y_output, columns=['SalePrice'])\n",
    "# print(saleprice.head())\n",
    "# saleprice.tail()\n",
    "results = pd.concat([test['Id'],saleprice['SalePrice']],axis=1)\n",
    "results.head()"
   ]
  },
  {
   "cell_type": "markdown",
   "metadata": {},
   "source": [
    "### Conclusion : \n",
    "\n",
    "A kaggle regression dataset \"House Prices\" was picked and it was trained, tuned and its performance was evaluated using a random forest classifier.Techniques like mutual information regression(MIR) and feature pruning were used as feature importance calculations to perform the feature selection."
   ]
  },
  {
   "cell_type": "markdown",
   "metadata": {},
   "source": [
    "### Contribution Statement :"
   ]
  },
  {
   "cell_type": "markdown",
   "metadata": {},
   "source": [
    "Performed the following tasks :\n",
    "\n",
    "1. Loading of data.\n",
    "2. Pre-processing of data.\n",
    "3. Feature engineering/feature selection\n",
    "4. Random forest regression technique\n",
    "\n",
    "Code by self---40%\n",
    "Code by reference---60%"
   ]
  },
  {
   "cell_type": "markdown",
   "metadata": {},
   "source": [
    "### Citations :\n",
    "\n",
    "Random Forest Classifier data---- https://scikit-learn.org/stable/modules/generated/sklearn.ensemble.RandomForestClassifier.html\n",
    "\n",
    "Titanic dataset reference ---- https://www.kaggle.com/c/titanic\n",
    "\n",
    "Random Forest Classifier video reference---- https://www.youtube.com/watch?v=loNcrMjYh64"
   ]
  },
  {
   "cell_type": "markdown",
   "metadata": {},
   "source": [
    "### License :\n",
    "\n",
    "Copyright <2019> Ria Rajput Permission is hereby granted, free of charge, to any person obtaining a copy of this notebook and associated documentation files (the \"Software\"), to deal in the Software without restriction, including without limitation the rights to use, copy, modify, merge, publish, distribute, sublicense, and/or sell copies of the Software, and to permit persons to whom the Software is furnished to do so, subject to the following conditions: The above copyright notice and this permission notice shall be included in all copies or substantial portions of the Software. THIS SOFTWARE IS PROVIDED BY THE COPYRIGHT HOLDERS AND CONTRIBUTORS \"AS IS\"AND ANY EXPRESS OR IMPLIED WARRANTIES, INCLUDING, BUT NOT LIMITED TO, THE IMPLIED WARRANTIES OF MERCHANTABILITY AND FITNESS FOR A PARTICULAR PURPOSE ARE DISCLAIMED. IN NO EVENT SHALL THE COPYRIGHT HOLDER OR CONTRIBUTORS BE LIABLE FOR ANY DIRECT, INDIRECT, INCIDENTAL, SPECIAL, EXEMPLARY, OR CONSEQUENTIAL DAMAGES (INCLUDING, BUT NOT LIMITED TO, PROCUREMENT OF SUBSTITUTE GOODS OR SERVICES; LOSS OF USE, DATA, OR PROFITS; OR BUSINESS INTERRUPTION) HOWEVER CAUSED AND ON ANY THEORY OF LIABILITY, WHETHER IN CONTRACT, STRICT LIABILITY, OR TORT (INCLUDING NEGLIGENCE OR OTHERWISE) ARISING IN ANY WAY OUT OF THE USE OF THIS SOFTWARE, EVEN IF ADVISED OF THE POSSIBILITY OF SUCH DAMAGE."
   ]
  },
  {
   "cell_type": "code",
   "execution_count": null,
   "metadata": {},
   "outputs": [],
   "source": []
  }
 ],
 "metadata": {
  "kernelspec": {
   "display_name": "Python 3",
   "language": "python",
   "name": "python3"
  },
  "language_info": {
   "codemirror_mode": {
    "name": "ipython",
    "version": 3
   },
   "file_extension": ".py",
   "mimetype": "text/x-python",
   "name": "python",
   "nbconvert_exporter": "python",
   "pygments_lexer": "ipython3",
   "version": "3.7.1"
  }
 },
 "nbformat": 4,
 "nbformat_minor": 2
}
