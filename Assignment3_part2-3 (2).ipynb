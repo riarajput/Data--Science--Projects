{
  "nbformat": 4,
  "nbformat_minor": 0,
  "metadata": {
    "colab": {
      "name": "Assignment3_part2.ipynb",
      "version": "0.3.2",
      "provenance": []
    },
    "kernelspec": {
      "name": "python3",
      "display_name": "Python 3"
    }
  },
  "cells": [
    {
      "cell_type": "code",
      "metadata": {
        "id": "SlOHJoeGamuB",
        "colab_type": "code",
        "colab": {}
      },
      "source": [
        ""
      ],
      "execution_count": 0,
      "outputs": []
    },
    {
      "cell_type": "markdown",
      "metadata": {
        "id": "z0IjGGXCavz1",
        "colab_type": "text"
      },
      "source": [
        "## ABSTRACT"
      ]
    },
    {
      "cell_type": "markdown",
      "metadata": {
        "id": "tm5_Ar5ra3xV",
        "colab_type": "text"
      },
      "source": [
        "To expand the basic code for building a DNN on the Pima Indian Diabetic Dataset to include:\n",
        "\n",
        "(a) pre-process the data by scaling/standardizing the 8 columns\n",
        "\n",
        "(b) Split the entire dataset into three parts instead of two as we currently do. One is train, two is validation, and then a test set. Build DNN model with train data, tune hyper parameters with validation data, and finally evaluate performance on the test data.\n",
        "\n",
        "(c) Make Epoch versus train set accuracy, and validation set accuracy\n",
        "\n",
        "(d) Report results using nice ROC curves, report AUC values. Feel free to use code form our course,or from elsewhere\n",
        "\n",
        "To train, tune and evaluate DNN model for the Black Friday sales Dataset. https://www.kaggle.com/mehdidag/black-friday. It’s a regression problem and you need only one neuron in the final layer!!! Try all the above steps (for problem 1) on this one too."
      ]
    },
    {
      "cell_type": "markdown",
      "metadata": {
        "id": "IFRI6j_Ta_iZ",
        "colab_type": "text"
      },
      "source": [
        "## About the dataset \"BLACK FRIDAY SALES DATASET\""
      ]
    },
    {
      "cell_type": "markdown",
      "metadata": {
        "id": "aSEVl5QabBTM",
        "colab_type": "text"
      },
      "source": [
        "Introduction: This project is analyse the data of Black Friday sales and get more insights to answer the key business questions as below.\n",
        "\n",
        "1.What are maximum products sold\n",
        "\n",
        "2.Which Product category has highest sales\n",
        "\n",
        "3. Finding the buyer's age group and their product of intreset\n",
        "\n",
        "4.Finding the marital status of the buyers\n",
        "\n",
        "5.Analysing the gender group, which has high intrest in the sales\n",
        "\n",
        "Table of Contents Installation Types of Files Results"
      ]
    },
    {
      "cell_type": "markdown",
      "metadata": {
        "id": "97_dP4u7bUjl",
        "colab_type": "text"
      },
      "source": [
        "## PART 2"
      ]
    },
    {
      "cell_type": "markdown",
      "metadata": {
        "id": "unbvlWVrbWnI",
        "colab_type": "text"
      },
      "source": [
        "1. Understand the problem and read in the data\n",
        "\n",
        "2. Pre-process data, train-test split\n",
        "\n",
        "3. Build and compile a deep learning model"
      ]
    },
    {
      "cell_type": "markdown",
      "metadata": {
        "id": "oeHoT-6bdH84",
        "colab_type": "text"
      },
      "source": [
        "## Understand the problem and read in the data"
      ]
    },
    {
      "cell_type": "code",
      "metadata": {
        "id": "aKYIImFda0Q8",
        "colab_type": "code",
        "colab": {}
      },
      "source": [
        "'''Import necessary packages'''\n",
        "from keras.models import Sequential\n",
        "from keras.layers import Dense\n",
        "from sklearn.model_selection import train_test_split\n",
        "from keras.wrappers.scikit_learn import KerasRegressor\n",
        "from sklearn.model_selection import cross_val_score\n",
        "from sklearn.model_selection import KFold\n",
        "from sklearn.preprocessing import StandardScaler\n",
        "from sklearn.pipeline import Pipeline\n",
        "import seaborn as sns\n",
        "import numpy as np\n",
        "import pandas as pd\n",
        "\n",
        "%matplotlib inline"
      ],
      "execution_count": 0,
      "outputs": []
    },
    {
      "cell_type": "code",
      "metadata": {
        "id": "IhxNkykydMWq",
        "colab_type": "code",
        "colab": {
          "base_uri": "https://localhost:8080/",
          "height": 34
        },
        "outputId": "056890f6-f476-4972-eda5-83307cb0559e"
      },
      "source": [
        "%pwd"
      ],
      "execution_count": 11,
      "outputs": [
        {
          "output_type": "execute_result",
          "data": {
            "text/plain": [
              "'/content'"
            ]
          },
          "metadata": {
            "tags": []
          },
          "execution_count": 11
        }
      ]
    },
    {
      "cell_type": "code",
      "metadata": {
        "id": "yOTG-zyydQ73",
        "colab_type": "code",
        "colab": {
          "base_uri": "https://localhost:8080/",
          "height": 63
        },
        "outputId": "8c810919-36f8-40f4-b0bd-be1748054d2b"
      },
      "source": [
        "!ls"
      ],
      "execution_count": 12,
      "outputs": [
        {
          "output_type": "stream",
          "text": [
            "BlackFriday.csv  sample_data\n"
          ],
          "name": "stdout"
        }
      ]
    },
    {
      "cell_type": "code",
      "metadata": {
        "id": "vCk5gxKudUwE",
        "colab_type": "code",
        "colab": {
          "base_uri": "https://localhost:8080/",
          "height": 182
        },
        "outputId": "cf61609a-a588-4e25-d4b8-b015d35d7d69"
      },
      "source": [
        "df = pd.read_csv('BlackFriday.csv')\n",
        "print(df.shape)\n",
        "df.head(2)"
      ],
      "execution_count": 13,
      "outputs": [
        {
          "output_type": "stream",
          "text": [
            "(537577, 12)\n"
          ],
          "name": "stdout"
        },
        {
          "output_type": "execute_result",
          "data": {
            "text/html": [
              "<div>\n",
              "<style scoped>\n",
              "    .dataframe tbody tr th:only-of-type {\n",
              "        vertical-align: middle;\n",
              "    }\n",
              "\n",
              "    .dataframe tbody tr th {\n",
              "        vertical-align: top;\n",
              "    }\n",
              "\n",
              "    .dataframe thead th {\n",
              "        text-align: right;\n",
              "    }\n",
              "</style>\n",
              "<table border=\"1\" class=\"dataframe\">\n",
              "  <thead>\n",
              "    <tr style=\"text-align: right;\">\n",
              "      <th></th>\n",
              "      <th>User_ID</th>\n",
              "      <th>Product_ID</th>\n",
              "      <th>Gender</th>\n",
              "      <th>Age</th>\n",
              "      <th>Occupation</th>\n",
              "      <th>City_Category</th>\n",
              "      <th>Stay_In_Current_City_Years</th>\n",
              "      <th>Marital_Status</th>\n",
              "      <th>Product_Category_1</th>\n",
              "      <th>Product_Category_2</th>\n",
              "      <th>Product_Category_3</th>\n",
              "      <th>Purchase</th>\n",
              "    </tr>\n",
              "  </thead>\n",
              "  <tbody>\n",
              "    <tr>\n",
              "      <th>0</th>\n",
              "      <td>1000001</td>\n",
              "      <td>P00069042</td>\n",
              "      <td>F</td>\n",
              "      <td>0-17</td>\n",
              "      <td>10</td>\n",
              "      <td>A</td>\n",
              "      <td>2</td>\n",
              "      <td>0</td>\n",
              "      <td>3</td>\n",
              "      <td>NaN</td>\n",
              "      <td>NaN</td>\n",
              "      <td>8370</td>\n",
              "    </tr>\n",
              "    <tr>\n",
              "      <th>1</th>\n",
              "      <td>1000001</td>\n",
              "      <td>P00248942</td>\n",
              "      <td>F</td>\n",
              "      <td>0-17</td>\n",
              "      <td>10</td>\n",
              "      <td>A</td>\n",
              "      <td>2</td>\n",
              "      <td>0</td>\n",
              "      <td>1</td>\n",
              "      <td>6.0</td>\n",
              "      <td>14.0</td>\n",
              "      <td>15200</td>\n",
              "    </tr>\n",
              "  </tbody>\n",
              "</table>\n",
              "</div>"
            ],
            "text/plain": [
              "   User_ID Product_ID Gender  ... Product_Category_2  Product_Category_3 Purchase\n",
              "0  1000001  P00069042      F  ...                NaN                 NaN     8370\n",
              "1  1000001  P00248942      F  ...                6.0                14.0    15200\n",
              "\n",
              "[2 rows x 12 columns]"
            ]
          },
          "metadata": {
            "tags": []
          },
          "execution_count": 13
        }
      ]
    },
    {
      "cell_type": "markdown",
      "metadata": {
        "id": "xnBMEH53db0B",
        "colab_type": "text"
      },
      "source": [
        "## Performing EDA"
      ]
    },
    {
      "cell_type": "code",
      "metadata": {
        "id": "CZkc9HJgdXWI",
        "colab_type": "code",
        "colab": {
          "base_uri": "https://localhost:8080/",
          "height": 297
        },
        "outputId": "dc6bbed2-33d1-4582-8ef1-57dc0a464a83"
      },
      "source": [
        "#the min and max values\n",
        "df.describe()"
      ],
      "execution_count": 14,
      "outputs": [
        {
          "output_type": "execute_result",
          "data": {
            "text/html": [
              "<div>\n",
              "<style scoped>\n",
              "    .dataframe tbody tr th:only-of-type {\n",
              "        vertical-align: middle;\n",
              "    }\n",
              "\n",
              "    .dataframe tbody tr th {\n",
              "        vertical-align: top;\n",
              "    }\n",
              "\n",
              "    .dataframe thead th {\n",
              "        text-align: right;\n",
              "    }\n",
              "</style>\n",
              "<table border=\"1\" class=\"dataframe\">\n",
              "  <thead>\n",
              "    <tr style=\"text-align: right;\">\n",
              "      <th></th>\n",
              "      <th>User_ID</th>\n",
              "      <th>Occupation</th>\n",
              "      <th>Marital_Status</th>\n",
              "      <th>Product_Category_1</th>\n",
              "      <th>Product_Category_2</th>\n",
              "      <th>Product_Category_3</th>\n",
              "      <th>Purchase</th>\n",
              "    </tr>\n",
              "  </thead>\n",
              "  <tbody>\n",
              "    <tr>\n",
              "      <th>count</th>\n",
              "      <td>5.375770e+05</td>\n",
              "      <td>537577.00000</td>\n",
              "      <td>537577.000000</td>\n",
              "      <td>537577.000000</td>\n",
              "      <td>370591.000000</td>\n",
              "      <td>164278.000000</td>\n",
              "      <td>537577.000000</td>\n",
              "    </tr>\n",
              "    <tr>\n",
              "      <th>mean</th>\n",
              "      <td>1.002992e+06</td>\n",
              "      <td>8.08271</td>\n",
              "      <td>0.408797</td>\n",
              "      <td>5.295546</td>\n",
              "      <td>9.842144</td>\n",
              "      <td>12.669840</td>\n",
              "      <td>9333.859853</td>\n",
              "    </tr>\n",
              "    <tr>\n",
              "      <th>std</th>\n",
              "      <td>1.714393e+03</td>\n",
              "      <td>6.52412</td>\n",
              "      <td>0.491612</td>\n",
              "      <td>3.750701</td>\n",
              "      <td>5.087259</td>\n",
              "      <td>4.124341</td>\n",
              "      <td>4981.022133</td>\n",
              "    </tr>\n",
              "    <tr>\n",
              "      <th>min</th>\n",
              "      <td>1.000001e+06</td>\n",
              "      <td>0.00000</td>\n",
              "      <td>0.000000</td>\n",
              "      <td>1.000000</td>\n",
              "      <td>2.000000</td>\n",
              "      <td>3.000000</td>\n",
              "      <td>185.000000</td>\n",
              "    </tr>\n",
              "    <tr>\n",
              "      <th>25%</th>\n",
              "      <td>1.001495e+06</td>\n",
              "      <td>2.00000</td>\n",
              "      <td>0.000000</td>\n",
              "      <td>1.000000</td>\n",
              "      <td>5.000000</td>\n",
              "      <td>9.000000</td>\n",
              "      <td>5866.000000</td>\n",
              "    </tr>\n",
              "    <tr>\n",
              "      <th>50%</th>\n",
              "      <td>1.003031e+06</td>\n",
              "      <td>7.00000</td>\n",
              "      <td>0.000000</td>\n",
              "      <td>5.000000</td>\n",
              "      <td>9.000000</td>\n",
              "      <td>14.000000</td>\n",
              "      <td>8062.000000</td>\n",
              "    </tr>\n",
              "    <tr>\n",
              "      <th>75%</th>\n",
              "      <td>1.004417e+06</td>\n",
              "      <td>14.00000</td>\n",
              "      <td>1.000000</td>\n",
              "      <td>8.000000</td>\n",
              "      <td>15.000000</td>\n",
              "      <td>16.000000</td>\n",
              "      <td>12073.000000</td>\n",
              "    </tr>\n",
              "    <tr>\n",
              "      <th>max</th>\n",
              "      <td>1.006040e+06</td>\n",
              "      <td>20.00000</td>\n",
              "      <td>1.000000</td>\n",
              "      <td>18.000000</td>\n",
              "      <td>18.000000</td>\n",
              "      <td>18.000000</td>\n",
              "      <td>23961.000000</td>\n",
              "    </tr>\n",
              "  </tbody>\n",
              "</table>\n",
              "</div>"
            ],
            "text/plain": [
              "            User_ID    Occupation  ...  Product_Category_3       Purchase\n",
              "count  5.375770e+05  537577.00000  ...       164278.000000  537577.000000\n",
              "mean   1.002992e+06       8.08271  ...           12.669840    9333.859853\n",
              "std    1.714393e+03       6.52412  ...            4.124341    4981.022133\n",
              "min    1.000001e+06       0.00000  ...            3.000000     185.000000\n",
              "25%    1.001495e+06       2.00000  ...            9.000000    5866.000000\n",
              "50%    1.003031e+06       7.00000  ...           14.000000    8062.000000\n",
              "75%    1.004417e+06      14.00000  ...           16.000000   12073.000000\n",
              "max    1.006040e+06      20.00000  ...           18.000000   23961.000000\n",
              "\n",
              "[8 rows x 7 columns]"
            ]
          },
          "metadata": {
            "tags": []
          },
          "execution_count": 14
        }
      ]
    },
    {
      "cell_type": "code",
      "metadata": {
        "id": "G5k3SR7ddf3v",
        "colab_type": "code",
        "colab": {
          "base_uri": "https://localhost:8080/",
          "height": 292
        },
        "outputId": "63059f8f-85e4-4ed4-9b8e-1e8e78098f97"
      },
      "source": [
        "#View first few records\n",
        "df.head()"
      ],
      "execution_count": 15,
      "outputs": [
        {
          "output_type": "execute_result",
          "data": {
            "text/html": [
              "<div>\n",
              "<style scoped>\n",
              "    .dataframe tbody tr th:only-of-type {\n",
              "        vertical-align: middle;\n",
              "    }\n",
              "\n",
              "    .dataframe tbody tr th {\n",
              "        vertical-align: top;\n",
              "    }\n",
              "\n",
              "    .dataframe thead th {\n",
              "        text-align: right;\n",
              "    }\n",
              "</style>\n",
              "<table border=\"1\" class=\"dataframe\">\n",
              "  <thead>\n",
              "    <tr style=\"text-align: right;\">\n",
              "      <th></th>\n",
              "      <th>User_ID</th>\n",
              "      <th>Product_ID</th>\n",
              "      <th>Gender</th>\n",
              "      <th>Age</th>\n",
              "      <th>Occupation</th>\n",
              "      <th>City_Category</th>\n",
              "      <th>Stay_In_Current_City_Years</th>\n",
              "      <th>Marital_Status</th>\n",
              "      <th>Product_Category_1</th>\n",
              "      <th>Product_Category_2</th>\n",
              "      <th>Product_Category_3</th>\n",
              "      <th>Purchase</th>\n",
              "    </tr>\n",
              "  </thead>\n",
              "  <tbody>\n",
              "    <tr>\n",
              "      <th>0</th>\n",
              "      <td>1000001</td>\n",
              "      <td>P00069042</td>\n",
              "      <td>F</td>\n",
              "      <td>0-17</td>\n",
              "      <td>10</td>\n",
              "      <td>A</td>\n",
              "      <td>2</td>\n",
              "      <td>0</td>\n",
              "      <td>3</td>\n",
              "      <td>NaN</td>\n",
              "      <td>NaN</td>\n",
              "      <td>8370</td>\n",
              "    </tr>\n",
              "    <tr>\n",
              "      <th>1</th>\n",
              "      <td>1000001</td>\n",
              "      <td>P00248942</td>\n",
              "      <td>F</td>\n",
              "      <td>0-17</td>\n",
              "      <td>10</td>\n",
              "      <td>A</td>\n",
              "      <td>2</td>\n",
              "      <td>0</td>\n",
              "      <td>1</td>\n",
              "      <td>6.0</td>\n",
              "      <td>14.0</td>\n",
              "      <td>15200</td>\n",
              "    </tr>\n",
              "    <tr>\n",
              "      <th>2</th>\n",
              "      <td>1000001</td>\n",
              "      <td>P00087842</td>\n",
              "      <td>F</td>\n",
              "      <td>0-17</td>\n",
              "      <td>10</td>\n",
              "      <td>A</td>\n",
              "      <td>2</td>\n",
              "      <td>0</td>\n",
              "      <td>12</td>\n",
              "      <td>NaN</td>\n",
              "      <td>NaN</td>\n",
              "      <td>1422</td>\n",
              "    </tr>\n",
              "    <tr>\n",
              "      <th>3</th>\n",
              "      <td>1000001</td>\n",
              "      <td>P00085442</td>\n",
              "      <td>F</td>\n",
              "      <td>0-17</td>\n",
              "      <td>10</td>\n",
              "      <td>A</td>\n",
              "      <td>2</td>\n",
              "      <td>0</td>\n",
              "      <td>12</td>\n",
              "      <td>14.0</td>\n",
              "      <td>NaN</td>\n",
              "      <td>1057</td>\n",
              "    </tr>\n",
              "    <tr>\n",
              "      <th>4</th>\n",
              "      <td>1000002</td>\n",
              "      <td>P00285442</td>\n",
              "      <td>M</td>\n",
              "      <td>55+</td>\n",
              "      <td>16</td>\n",
              "      <td>C</td>\n",
              "      <td>4+</td>\n",
              "      <td>0</td>\n",
              "      <td>8</td>\n",
              "      <td>NaN</td>\n",
              "      <td>NaN</td>\n",
              "      <td>7969</td>\n",
              "    </tr>\n",
              "  </tbody>\n",
              "</table>\n",
              "</div>"
            ],
            "text/plain": [
              "   User_ID Product_ID Gender  ... Product_Category_2  Product_Category_3 Purchase\n",
              "0  1000001  P00069042      F  ...                NaN                 NaN     8370\n",
              "1  1000001  P00248942      F  ...                6.0                14.0    15200\n",
              "2  1000001  P00087842      F  ...                NaN                 NaN     1422\n",
              "3  1000001  P00085442      F  ...               14.0                 NaN     1057\n",
              "4  1000002  P00285442      M  ...                NaN                 NaN     7969\n",
              "\n",
              "[5 rows x 12 columns]"
            ]
          },
          "metadata": {
            "tags": []
          },
          "execution_count": 15
        }
      ]
    },
    {
      "cell_type": "code",
      "metadata": {
        "id": "puW1GaKpdjA4",
        "colab_type": "code",
        "colab": {
          "base_uri": "https://localhost:8080/",
          "height": 309
        },
        "outputId": "884dff1b-919a-411a-dfa8-26484bc50e8c"
      },
      "source": [
        "#view last few records\n",
        "df.tail()"
      ],
      "execution_count": 16,
      "outputs": [
        {
          "output_type": "execute_result",
          "data": {
            "text/html": [
              "<div>\n",
              "<style scoped>\n",
              "    .dataframe tbody tr th:only-of-type {\n",
              "        vertical-align: middle;\n",
              "    }\n",
              "\n",
              "    .dataframe tbody tr th {\n",
              "        vertical-align: top;\n",
              "    }\n",
              "\n",
              "    .dataframe thead th {\n",
              "        text-align: right;\n",
              "    }\n",
              "</style>\n",
              "<table border=\"1\" class=\"dataframe\">\n",
              "  <thead>\n",
              "    <tr style=\"text-align: right;\">\n",
              "      <th></th>\n",
              "      <th>User_ID</th>\n",
              "      <th>Product_ID</th>\n",
              "      <th>Gender</th>\n",
              "      <th>Age</th>\n",
              "      <th>Occupation</th>\n",
              "      <th>City_Category</th>\n",
              "      <th>Stay_In_Current_City_Years</th>\n",
              "      <th>Marital_Status</th>\n",
              "      <th>Product_Category_1</th>\n",
              "      <th>Product_Category_2</th>\n",
              "      <th>Product_Category_3</th>\n",
              "      <th>Purchase</th>\n",
              "    </tr>\n",
              "  </thead>\n",
              "  <tbody>\n",
              "    <tr>\n",
              "      <th>537572</th>\n",
              "      <td>1004737</td>\n",
              "      <td>P00193542</td>\n",
              "      <td>M</td>\n",
              "      <td>36-45</td>\n",
              "      <td>16</td>\n",
              "      <td>C</td>\n",
              "      <td>1</td>\n",
              "      <td>0</td>\n",
              "      <td>1</td>\n",
              "      <td>2.0</td>\n",
              "      <td>NaN</td>\n",
              "      <td>11664</td>\n",
              "    </tr>\n",
              "    <tr>\n",
              "      <th>537573</th>\n",
              "      <td>1004737</td>\n",
              "      <td>P00111142</td>\n",
              "      <td>M</td>\n",
              "      <td>36-45</td>\n",
              "      <td>16</td>\n",
              "      <td>C</td>\n",
              "      <td>1</td>\n",
              "      <td>0</td>\n",
              "      <td>1</td>\n",
              "      <td>15.0</td>\n",
              "      <td>16.0</td>\n",
              "      <td>19196</td>\n",
              "    </tr>\n",
              "    <tr>\n",
              "      <th>537574</th>\n",
              "      <td>1004737</td>\n",
              "      <td>P00345942</td>\n",
              "      <td>M</td>\n",
              "      <td>36-45</td>\n",
              "      <td>16</td>\n",
              "      <td>C</td>\n",
              "      <td>1</td>\n",
              "      <td>0</td>\n",
              "      <td>8</td>\n",
              "      <td>15.0</td>\n",
              "      <td>NaN</td>\n",
              "      <td>8043</td>\n",
              "    </tr>\n",
              "    <tr>\n",
              "      <th>537575</th>\n",
              "      <td>1004737</td>\n",
              "      <td>P00285842</td>\n",
              "      <td>M</td>\n",
              "      <td>36-45</td>\n",
              "      <td>16</td>\n",
              "      <td>C</td>\n",
              "      <td>1</td>\n",
              "      <td>0</td>\n",
              "      <td>5</td>\n",
              "      <td>NaN</td>\n",
              "      <td>NaN</td>\n",
              "      <td>7172</td>\n",
              "    </tr>\n",
              "    <tr>\n",
              "      <th>537576</th>\n",
              "      <td>1004737</td>\n",
              "      <td>P00118242</td>\n",
              "      <td>M</td>\n",
              "      <td>36-45</td>\n",
              "      <td>16</td>\n",
              "      <td>C</td>\n",
              "      <td>1</td>\n",
              "      <td>0</td>\n",
              "      <td>5</td>\n",
              "      <td>8.0</td>\n",
              "      <td>NaN</td>\n",
              "      <td>6875</td>\n",
              "    </tr>\n",
              "  </tbody>\n",
              "</table>\n",
              "</div>"
            ],
            "text/plain": [
              "        User_ID Product_ID  ... Product_Category_3 Purchase\n",
              "537572  1004737  P00193542  ...                NaN    11664\n",
              "537573  1004737  P00111142  ...               16.0    19196\n",
              "537574  1004737  P00345942  ...                NaN     8043\n",
              "537575  1004737  P00285842  ...                NaN     7172\n",
              "537576  1004737  P00118242  ...                NaN     6875\n",
              "\n",
              "[5 rows x 12 columns]"
            ]
          },
          "metadata": {
            "tags": []
          },
          "execution_count": 16
        }
      ]
    },
    {
      "cell_type": "code",
      "metadata": {
        "id": "ApthbW0odl_8",
        "colab_type": "code",
        "colab": {
          "base_uri": "https://localhost:8080/",
          "height": 306
        },
        "outputId": "99ffcf57-9861-48b2-cd89-1c10ad693759"
      },
      "source": [
        "#Look at the data types\n",
        "df.info()"
      ],
      "execution_count": 17,
      "outputs": [
        {
          "output_type": "stream",
          "text": [
            "<class 'pandas.core.frame.DataFrame'>\n",
            "RangeIndex: 537577 entries, 0 to 537576\n",
            "Data columns (total 12 columns):\n",
            "User_ID                       537577 non-null int64\n",
            "Product_ID                    537577 non-null object\n",
            "Gender                        537577 non-null object\n",
            "Age                           537577 non-null object\n",
            "Occupation                    537577 non-null int64\n",
            "City_Category                 537577 non-null object\n",
            "Stay_In_Current_City_Years    537577 non-null object\n",
            "Marital_Status                537577 non-null int64\n",
            "Product_Category_1            537577 non-null int64\n",
            "Product_Category_2            370591 non-null float64\n",
            "Product_Category_3            164278 non-null float64\n",
            "Purchase                      537577 non-null int64\n",
            "dtypes: float64(2), int64(5), object(5)\n",
            "memory usage: 49.2+ MB\n"
          ],
          "name": "stdout"
        }
      ]
    },
    {
      "cell_type": "markdown",
      "metadata": {
        "id": "1YnSP6gbdtA5",
        "colab_type": "text"
      },
      "source": [
        "We are able to find three different datatypes as\n",
        "2 columns with float64\n",
        "5 columns with int64\n",
        "5 columns with object\n",
        "\n",
        "Gender & City_Category are categorical (Nominal) variables, Age column has values in grouped manner. we need to preprocess them, which we can see in the later section Quick Insights on the data types The Data types are classified into two as Quantitative and Categorical Quantitative data takes on numeric values that allow us to perform mathematical operations (like the number of dogs). Categorical are used to label a group or set of items (like dog breeds - Collies, Labs, Poodles, etc.).\n",
        "\n",
        "Categorical Ordinal vs. Categorical Nominal We can divide categorical data further into two types: Ordinal and Nominal. Categorical Ordinal data take on a ranked ordering (like a ranked interaction on a scale from Very Poor to Very Good with the dogs). Categorical Nominal data do not have an order or ranking (like the breeds of the dog).\n",
        "\n",
        "Continuous vs. Discrete We can think of quantitative data as being either continuous or discrete. Continuous data can be split into smaller and smaller units, and still a smaller unit exists. An example of this is the age of the dog - we can measure the units of the age in years, months, days, hours, seconds, but there are still smaller units that could be associated with the age. Discrete data only takes on countable values. The number of dogs we interact with is an example of a discrete data type. More details refer wiki and a very good Medium post."
      ]
    },
    {
      "cell_type": "markdown",
      "metadata": {
        "id": "CrSJ4fbMdzbt",
        "colab_type": "text"
      },
      "source": [
        "## DATA ANALYSIS"
      ]
    },
    {
      "cell_type": "code",
      "metadata": {
        "id": "ZGm8M9fddpS1",
        "colab_type": "code",
        "colab": {
          "base_uri": "https://localhost:8080/",
          "height": 376
        },
        "outputId": "4a20be64-f165-48bf-a912-2f32b66b2bf6"
      },
      "source": [
        "sns.heatmap(df.corr(), annot = True, fmt = '.2f', cmap = 'vlag_r', center = 0)"
      ],
      "execution_count": 18,
      "outputs": [
        {
          "output_type": "execute_result",
          "data": {
            "text/plain": [
              "<matplotlib.axes._subplots.AxesSubplot at 0x7fa1a87062b0>"
            ]
          },
          "metadata": {
            "tags": []
          },
          "execution_count": 18
        },
        {
          "output_type": "display_data",
          "data": {
            "image/png": "[encoded data removed]",
            "text/plain": [
              "<Figure size 432x288 with 2 Axes>"
            ]
          },
          "metadata": {
            "tags": []
          }
        }
      ]
    },
    {
      "cell_type": "markdown",
      "metadata": {
        "id": "nBtE3hhTicc7",
        "colab_type": "text"
      },
      "source": [
        "Product_Category_1, Product_Category_2 & Product_Category_3 correlation vale >.5 which is moderate."
      ]
    },
    {
      "cell_type": "code",
      "metadata": {
        "id": "n95Z8aHbiYhr",
        "colab_type": "code",
        "colab": {
          "base_uri": "https://localhost:8080/",
          "height": 238
        },
        "outputId": "64d4e25e-0e90-4df6-ebd3-0766dc008e48"
      },
      "source": [
        "#Insights on NaN values\n",
        "df.isnull().sum()"
      ],
      "execution_count": 19,
      "outputs": [
        {
          "output_type": "execute_result",
          "data": {
            "text/plain": [
              "User_ID                            0\n",
              "Product_ID                         0\n",
              "Gender                             0\n",
              "Age                                0\n",
              "Occupation                         0\n",
              "City_Category                      0\n",
              "Stay_In_Current_City_Years         0\n",
              "Marital_Status                     0\n",
              "Product_Category_1                 0\n",
              "Product_Category_2            166986\n",
              "Product_Category_3            373299\n",
              "Purchase                           0\n",
              "dtype: int64"
            ]
          },
          "metadata": {
            "tags": []
          },
          "execution_count": 19
        }
      ]
    },
    {
      "cell_type": "markdown",
      "metadata": {
        "id": "z2Xg_zEqikPd",
        "colab_type": "text"
      },
      "source": [
        "we are able to see more null values in Product_Category_2 and Product_Category_3, let us check the value counts for each category."
      ]
    },
    {
      "cell_type": "code",
      "metadata": {
        "id": "JbgepS9kigso",
        "colab_type": "code",
        "colab": {
          "base_uri": "https://localhost:8080/",
          "height": 340
        },
        "outputId": "f2bb11b8-1520-4e2f-eaee-3b4a0df1f202"
      },
      "source": [
        "#Let us check the values counts on product category trend\n",
        "df[\"Product_Category_1\"].value_counts()"
      ],
      "execution_count": 20,
      "outputs": [
        {
          "output_type": "execute_result",
          "data": {
            "text/plain": [
              "5     148592\n",
              "1     138353\n",
              "8     112132\n",
              "11     23960\n",
              "2      23499\n",
              "6      20164\n",
              "3      19849\n",
              "4      11567\n",
              "16      9697\n",
              "15      6203\n",
              "13      5440\n",
              "10      5032\n",
              "12      3875\n",
              "7       3668\n",
              "18      3075\n",
              "14      1500\n",
              "17       567\n",
              "9        404\n",
              "Name: Product_Category_1, dtype: int64"
            ]
          },
          "metadata": {
            "tags": []
          },
          "execution_count": 20
        }
      ]
    },
    {
      "cell_type": "code",
      "metadata": {
        "id": "R-x_2Zw-in5x",
        "colab_type": "code",
        "colab": {
          "base_uri": "https://localhost:8080/",
          "height": 323
        },
        "outputId": "d7264b97-f27a-479b-c0d7-decc7dfd848e"
      },
      "source": [
        "df[\"Product_Category_2\"].value_counts()"
      ],
      "execution_count": 21,
      "outputs": [
        {
          "output_type": "execute_result",
          "data": {
            "text/plain": [
              "8.0     63058\n",
              "14.0    54158\n",
              "2.0     48481\n",
              "16.0    42602\n",
              "15.0    37317\n",
              "5.0     25874\n",
              "4.0     25225\n",
              "6.0     16251\n",
              "11.0    13945\n",
              "17.0    13130\n",
              "13.0    10369\n",
              "9.0      5591\n",
              "12.0     5419\n",
              "10.0     2991\n",
              "3.0      2835\n",
              "18.0     2730\n",
              "7.0       615\n",
              "Name: Product_Category_2, dtype: int64"
            ]
          },
          "metadata": {
            "tags": []
          },
          "execution_count": 21
        }
      ]
    },
    {
      "cell_type": "code",
      "metadata": {
        "id": "UWo2dDnwirLz",
        "colab_type": "code",
        "colab": {
          "base_uri": "https://localhost:8080/",
          "height": 289
        },
        "outputId": "ab3abc3d-e6cc-4f01-d941-6ba537cc3fb7"
      },
      "source": [
        "df[\"Product_Category_3\"].value_counts()"
      ],
      "execution_count": 22,
      "outputs": [
        {
          "output_type": "execute_result",
          "data": {
            "text/plain": [
              "16.0    32148\n",
              "15.0    27611\n",
              "14.0    18121\n",
              "17.0    16449\n",
              "5.0     16380\n",
              "8.0     12384\n",
              "9.0     11414\n",
              "12.0     9094\n",
              "13.0     5385\n",
              "6.0      4818\n",
              "18.0     4563\n",
              "4.0      1840\n",
              "11.0     1773\n",
              "10.0     1698\n",
              "3.0       600\n",
              "Name: Product_Category_3, dtype: int64"
            ]
          },
          "metadata": {
            "tags": []
          },
          "execution_count": 22
        }
      ]
    },
    {
      "cell_type": "code",
      "metadata": {
        "id": "QpkpcLqziuIw",
        "colab_type": "code",
        "colab": {}
      },
      "source": [
        "# Deep copy the original data frame, so that changes made in copy will not impact the original version\n",
        "df_copy = df.copy()"
      ],
      "execution_count": 0,
      "outputs": []
    },
    {
      "cell_type": "code",
      "metadata": {
        "id": "mO-3ZLeQixUs",
        "colab_type": "code",
        "colab": {
          "base_uri": "https://localhost:8080/",
          "height": 51
        },
        "outputId": "aab19e0b-af58-4222-d221-61ff8053f094"
      },
      "source": [
        "print (\"Shape of Original df:{}\".format(df.shape))\n",
        "print (\"Shape of Copy df_copy:{}\".format(df_copy.shape))"
      ],
      "execution_count": 24,
      "outputs": [
        {
          "output_type": "stream",
          "text": [
            "Shape of Original df:(537577, 12)\n",
            "Shape of Copy df_copy:(537577, 12)\n"
          ],
          "name": "stdout"
        }
      ]
    },
    {
      "cell_type": "markdown",
      "metadata": {
        "id": "lXHoO2fFi4P9",
        "colab_type": "text"
      },
      "source": [
        "Now let us drop the NaN values in the copied dataframe to see how much data loss we have."
      ]
    },
    {
      "cell_type": "code",
      "metadata": {
        "id": "zWZIKA42i0WJ",
        "colab_type": "code",
        "colab": {}
      },
      "source": [
        "df_copy.dropna(inplace=True)"
      ],
      "execution_count": 0,
      "outputs": []
    },
    {
      "cell_type": "code",
      "metadata": {
        "id": "Idx4jxWRi8B2",
        "colab_type": "code",
        "colab": {
          "base_uri": "https://localhost:8080/",
          "height": 51
        },
        "outputId": "a4fcbd4e-3890-43e2-eb5a-168e1d7e4b53"
      },
      "source": [
        "print (\"Shape of Original df:{}\".format(df.shape))\n",
        "print (\"Shape of Copy df_copy:{}\".format(df_copy.shape))"
      ],
      "execution_count": 26,
      "outputs": [
        {
          "output_type": "stream",
          "text": [
            "Shape of Original df:(537577, 12)\n",
            "Shape of Copy df_copy:(164278, 12)\n"
          ],
          "name": "stdout"
        }
      ]
    },
    {
      "cell_type": "code",
      "metadata": {
        "id": "PJrtWHfIjAD0",
        "colab_type": "code",
        "colab": {
          "base_uri": "https://localhost:8080/",
          "height": 204
        },
        "outputId": "7e6302ce-df60-4844-a62f-c089071bfec6"
      },
      "source": [
        "df_copy[[\"Product_ID\",\"Product_Category_1\",\"Product_Category_2\",\"Product_Category_3\"]].head()"
      ],
      "execution_count": 27,
      "outputs": [
        {
          "output_type": "execute_result",
          "data": {
            "text/html": [
              "<div>\n",
              "<style scoped>\n",
              "    .dataframe tbody tr th:only-of-type {\n",
              "        vertical-align: middle;\n",
              "    }\n",
              "\n",
              "    .dataframe tbody tr th {\n",
              "        vertical-align: top;\n",
              "    }\n",
              "\n",
              "    .dataframe thead th {\n",
              "        text-align: right;\n",
              "    }\n",
              "</style>\n",
              "<table border=\"1\" class=\"dataframe\">\n",
              "  <thead>\n",
              "    <tr style=\"text-align: right;\">\n",
              "      <th></th>\n",
              "      <th>Product_ID</th>\n",
              "      <th>Product_Category_1</th>\n",
              "      <th>Product_Category_2</th>\n",
              "      <th>Product_Category_3</th>\n",
              "    </tr>\n",
              "  </thead>\n",
              "  <tbody>\n",
              "    <tr>\n",
              "      <th>1</th>\n",
              "      <td>P00248942</td>\n",
              "      <td>1</td>\n",
              "      <td>6.0</td>\n",
              "      <td>14.0</td>\n",
              "    </tr>\n",
              "    <tr>\n",
              "      <th>6</th>\n",
              "      <td>P00184942</td>\n",
              "      <td>1</td>\n",
              "      <td>8.0</td>\n",
              "      <td>17.0</td>\n",
              "    </tr>\n",
              "    <tr>\n",
              "      <th>13</th>\n",
              "      <td>P00145042</td>\n",
              "      <td>1</td>\n",
              "      <td>2.0</td>\n",
              "      <td>5.0</td>\n",
              "    </tr>\n",
              "    <tr>\n",
              "      <th>14</th>\n",
              "      <td>P00231342</td>\n",
              "      <td>5</td>\n",
              "      <td>8.0</td>\n",
              "      <td>14.0</td>\n",
              "    </tr>\n",
              "    <tr>\n",
              "      <th>16</th>\n",
              "      <td>P0096642</td>\n",
              "      <td>2</td>\n",
              "      <td>3.0</td>\n",
              "      <td>4.0</td>\n",
              "    </tr>\n",
              "  </tbody>\n",
              "</table>\n",
              "</div>"
            ],
            "text/plain": [
              "   Product_ID  Product_Category_1  Product_Category_2  Product_Category_3\n",
              "1   P00248942                   1                 6.0                14.0\n",
              "6   P00184942                   1                 8.0                17.0\n",
              "13  P00145042                   1                 2.0                 5.0\n",
              "14  P00231342                   5                 8.0                14.0\n",
              "16   P0096642                   2                 3.0                 4.0"
            ]
          },
          "metadata": {
            "tags": []
          },
          "execution_count": 27
        }
      ]
    },
    {
      "cell_type": "code",
      "metadata": {
        "id": "Bxg9tzYqjC6L",
        "colab_type": "code",
        "colab": {
          "base_uri": "https://localhost:8080/",
          "height": 51
        },
        "outputId": "e7ace85b-505a-4fce-f787-c1b4b960fdd9"
      },
      "source": [
        "print(\"Shape of the original data set : {}\".format(df.shape))\n",
        "print(\"Shape of the NaN removed data set : {}\".format(df_copy.shape))"
      ],
      "execution_count": 28,
      "outputs": [
        {
          "output_type": "stream",
          "text": [
            "Shape of the original data set : (537577, 12)\n",
            "Shape of the NaN removed data set : (164278, 12)\n"
          ],
          "name": "stdout"
        }
      ]
    },
    {
      "cell_type": "code",
      "metadata": {
        "id": "ANjM0YUMjGWw",
        "colab_type": "code",
        "colab": {
          "base_uri": "https://localhost:8080/",
          "height": 34
        },
        "outputId": "026557ba-7d4a-4d4c-a175-9dd87805c5d8"
      },
      "source": [
        "#df_copy.dropna().shape[0]/df_copy.shape[0]\n",
        "print (\"Propotion of missing values in df :{0:.2f}\".format((df.shape[0] - df_copy.shape[0])/df.shape[0]))"
      ],
      "execution_count": 29,
      "outputs": [
        {
          "output_type": "stream",
          "text": [
            "Propotion of missing values in df :0.69\n"
          ],
          "name": "stdout"
        }
      ]
    },
    {
      "cell_type": "markdown",
      "metadata": {
        "id": "FkmMpHfRjNaK",
        "colab_type": "text"
      },
      "source": [
        "#### Removing the NaN values is resulting in loss of 70% data in the data set. This results in bias-ed model causing the model to be underfit."
      ]
    },
    {
      "cell_type": "markdown",
      "metadata": {
        "id": "GqPgN5EMjbWM",
        "colab_type": "text"
      },
      "source": [
        "The available alternate approaches are imputing the missing values with mean, mode or fill with 0. since the Product_Catgeory_2 & Product_Catgeory_3 coulmns are interlinked with values present in Product_Catgeory_1, hence imputing with mean/mode is not a good strategy, hence we will fill the Nan values with 0."
      ]
    },
    {
      "cell_type": "code",
      "metadata": {
        "id": "CYmeE6IcjJsW",
        "colab_type": "code",
        "colab": {}
      },
      "source": [
        "#Fill na with Zero\n",
        "df.fillna(0, inplace=True)"
      ],
      "execution_count": 0,
      "outputs": []
    },
    {
      "cell_type": "code",
      "metadata": {
        "id": "wgtxV6xojftk",
        "colab_type": "code",
        "colab": {
          "base_uri": "https://localhost:8080/",
          "height": 238
        },
        "outputId": "d2c50b64-cf73-4a1b-e258-f91242c958d7"
      },
      "source": [
        "df.isnull().sum()"
      ],
      "execution_count": 31,
      "outputs": [
        {
          "output_type": "execute_result",
          "data": {
            "text/plain": [
              "User_ID                       0\n",
              "Product_ID                    0\n",
              "Gender                        0\n",
              "Age                           0\n",
              "Occupation                    0\n",
              "City_Category                 0\n",
              "Stay_In_Current_City_Years    0\n",
              "Marital_Status                0\n",
              "Product_Category_1            0\n",
              "Product_Category_2            0\n",
              "Product_Category_3            0\n",
              "Purchase                      0\n",
              "dtype: int64"
            ]
          },
          "metadata": {
            "tags": []
          },
          "execution_count": 31
        }
      ]
    },
    {
      "cell_type": "markdown",
      "metadata": {
        "id": "QEH8fHfDjqU-",
        "colab_type": "text"
      },
      "source": [
        "There is no NaN values in the dataset, which is ready for further analysis now !!!"
      ]
    },
    {
      "cell_type": "markdown",
      "metadata": {
        "id": "hHom4YLDjwHK",
        "colab_type": "text"
      },
      "source": [
        "## Handling non numeric values"
      ]
    },
    {
      "cell_type": "code",
      "metadata": {
        "id": "4z0s8Pf4juB7",
        "colab_type": "code",
        "colab": {
          "base_uri": "https://localhost:8080/",
          "height": 153
        },
        "outputId": "86a5841c-caa0-4c03-b19a-c5ca01be20d4"
      },
      "source": [
        "def handle_non_numerical_data(df):\n",
        "    columns = df.columns.values\n",
        "    for column in columns:\n",
        "        text_digit_vals = {}\n",
        "        def convert_to_int(val):\n",
        "            return text_digit_vals[val]\n",
        "\n",
        "        if df[column].dtype != np.int64 and df[column].dtype != np.float64:\n",
        "            column_contents = df[column].values.tolist()\n",
        "            unique_elements = set(column_contents)\n",
        "            x = 0\n",
        "            for unique in unique_elements:\n",
        "                if unique not in text_digit_vals:\n",
        "                    text_digit_vals[unique] = x\n",
        "                    x+=1\n",
        "\n",
        "            df[column] = list(map(convert_to_int, df[column]))\n",
        "\n",
        "    return df\n",
        "\n",
        "df = handle_non_numerical_data(df)\n",
        "print(df.head())"
      ],
      "execution_count": 32,
      "outputs": [
        {
          "output_type": "stream",
          "text": [
            "   User_ID  Product_ID  ...  Product_Category_3  Purchase\n",
            "0  1000001        1414  ...                 0.0      8370\n",
            "1  1000001         122  ...                14.0     15200\n",
            "2  1000001        1553  ...                 0.0      1422\n",
            "3  1000001         836  ...                 0.0      1057\n",
            "4  1000002        2199  ...                 0.0      7969\n",
            "\n",
            "[5 rows x 12 columns]\n"
          ],
          "name": "stdout"
        }
      ]
    },
    {
      "cell_type": "markdown",
      "metadata": {
        "id": "4-ulhT8_j6x_",
        "colab_type": "text"
      },
      "source": [
        "Now the dataset is completely ready for further processing!"
      ]
    },
    {
      "cell_type": "markdown",
      "metadata": {
        "id": "xhwSWG-Pj-Qa",
        "colab_type": "text"
      },
      "source": [
        "## Pre-process data, train-test and validation split"
      ]
    },
    {
      "cell_type": "markdown",
      "metadata": {
        "id": "92uyMmoKkIqn",
        "colab_type": "text"
      },
      "source": [
        "### Splitting the data into train, test and validation sets"
      ]
    },
    {
      "cell_type": "code",
      "metadata": {
        "id": "rEVw5rEOj_xX",
        "colab_type": "code",
        "colab": {}
      },
      "source": [
        "#Separate out X and Y\n",
        "\n",
        "X = df.iloc[:, :11]\n",
        "y = df.iloc[:, 11:12]"
      ],
      "execution_count": 0,
      "outputs": []
    },
    {
      "cell_type": "markdown",
      "metadata": {
        "id": "QOXR2YckkSBg",
        "colab_type": "text"
      },
      "source": [
        "## Scaling the data by using standard scalar"
      ]
    },
    {
      "cell_type": "code",
      "metadata": {
        "id": "bzp4ENp2kOJh",
        "colab_type": "code",
        "colab": {}
      },
      "source": [
        "#Since variables have varied scale, we would rescale all of them, using Standard Scalar\n",
        "#StandardScalar subtracts mean from all the values and divide by SD, so we scale all the values to mean = 0 and sd = 1\n",
        "\n",
        "from sklearn.preprocessing import StandardScaler\n",
        "from keras.utils import to_categorical"
      ],
      "execution_count": 0,
      "outputs": []
    },
    {
      "cell_type": "code",
      "metadata": {
        "id": "w_KwgHcQlgsl",
        "colab_type": "code",
        "colab": {
          "base_uri": "https://localhost:8080/",
          "height": 204
        },
        "outputId": "551f6da2-6739-47ac-d98d-4575a4590ee2"
      },
      "source": [
        "sc= StandardScaler()\n",
        "X_scaled =pd.DataFrame(sc.fit_transform(X))\n",
        "\n",
        "X_scaled.head()"
      ],
      "execution_count": 35,
      "outputs": [
        {
          "output_type": "execute_result",
          "data": {
            "text/html": [
              "<div>\n",
              "<style scoped>\n",
              "    .dataframe tbody tr th:only-of-type {\n",
              "        vertical-align: middle;\n",
              "    }\n",
              "\n",
              "    .dataframe tbody tr th {\n",
              "        vertical-align: top;\n",
              "    }\n",
              "\n",
              "    .dataframe thead th {\n",
              "        text-align: right;\n",
              "    }\n",
              "</style>\n",
              "<table border=\"1\" class=\"dataframe\">\n",
              "  <thead>\n",
              "    <tr style=\"text-align: right;\">\n",
              "      <th></th>\n",
              "      <th>0</th>\n",
              "      <th>1</th>\n",
              "      <th>2</th>\n",
              "      <th>3</th>\n",
              "      <th>4</th>\n",
              "      <th>5</th>\n",
              "      <th>6</th>\n",
              "      <th>7</th>\n",
              "      <th>8</th>\n",
              "      <th>9</th>\n",
              "      <th>10</th>\n",
              "    </tr>\n",
              "  </thead>\n",
              "  <tbody>\n",
              "    <tr>\n",
              "      <th>0</th>\n",
              "      <td>-1.744554</td>\n",
              "      <td>-0.380632</td>\n",
              "      <td>1.751138</td>\n",
              "      <td>0.175513</td>\n",
              "      <td>0.293877</td>\n",
              "      <td>1.410677</td>\n",
              "      <td>0.212523</td>\n",
              "      <td>-0.831545</td>\n",
              "      <td>-0.612032</td>\n",
              "      <td>-1.092294</td>\n",
              "      <td>-0.617906</td>\n",
              "    </tr>\n",
              "    <tr>\n",
              "      <th>1</th>\n",
              "      <td>-1.744554</td>\n",
              "      <td>-1.624197</td>\n",
              "      <td>1.751138</td>\n",
              "      <td>0.175513</td>\n",
              "      <td>0.293877</td>\n",
              "      <td>1.410677</td>\n",
              "      <td>0.212523</td>\n",
              "      <td>-0.831545</td>\n",
              "      <td>-1.145266</td>\n",
              "      <td>-0.126361</td>\n",
              "      <td>1.616389</td>\n",
              "    </tr>\n",
              "    <tr>\n",
              "      <th>2</th>\n",
              "      <td>-1.744554</td>\n",
              "      <td>-0.246843</td>\n",
              "      <td>1.751138</td>\n",
              "      <td>0.175513</td>\n",
              "      <td>0.293877</td>\n",
              "      <td>1.410677</td>\n",
              "      <td>0.212523</td>\n",
              "      <td>-0.831545</td>\n",
              "      <td>1.787522</td>\n",
              "      <td>-1.092294</td>\n",
              "      <td>-0.617906</td>\n",
              "    </tr>\n",
              "    <tr>\n",
              "      <th>3</th>\n",
              "      <td>-1.744554</td>\n",
              "      <td>-0.936964</td>\n",
              "      <td>1.751138</td>\n",
              "      <td>0.175513</td>\n",
              "      <td>0.293877</td>\n",
              "      <td>1.410677</td>\n",
              "      <td>0.212523</td>\n",
              "      <td>-0.831545</td>\n",
              "      <td>1.787522</td>\n",
              "      <td>1.161549</td>\n",
              "      <td>-0.617906</td>\n",
              "    </tr>\n",
              "    <tr>\n",
              "      <th>4</th>\n",
              "      <td>-1.743970</td>\n",
              "      <td>0.374939</td>\n",
              "      <td>-0.571057</td>\n",
              "      <td>1.144599</td>\n",
              "      <td>1.213543</td>\n",
              "      <td>0.186414</td>\n",
              "      <td>0.987202</td>\n",
              "      <td>-0.831545</td>\n",
              "      <td>0.721053</td>\n",
              "      <td>-1.092294</td>\n",
              "      <td>-0.617906</td>\n",
              "    </tr>\n",
              "  </tbody>\n",
              "</table>\n",
              "</div>"
            ],
            "text/plain": [
              "         0         1         2   ...        8         9         10\n",
              "0 -1.744554 -0.380632  1.751138  ... -0.612032 -1.092294 -0.617906\n",
              "1 -1.744554 -1.624197  1.751138  ... -1.145266 -0.126361  1.616389\n",
              "2 -1.744554 -0.246843  1.751138  ...  1.787522 -1.092294 -0.617906\n",
              "3 -1.744554 -0.936964  1.751138  ...  1.787522  1.161549 -0.617906\n",
              "4 -1.743970  0.374939 -0.571057  ...  0.721053 -1.092294 -0.617906\n",
              "\n",
              "[5 rows x 11 columns]"
            ]
          },
          "metadata": {
            "tags": []
          },
          "execution_count": 35
        }
      ]
    },
    {
      "cell_type": "code",
      "metadata": {
        "id": "b3KoiWKmljzR",
        "colab_type": "code",
        "colab": {}
      },
      "source": [
        "(X_train, X_test, y_train, y_test) = train_test_split(\n",
        "    X_scaled, y, test_size=0.2, random_state=1)\n",
        "(X_train, X_val, y_train, y_val) = train_test_split(\n",
        "    X_train, y_train, test_size=0.25, random_state=1)"
      ],
      "execution_count": 0,
      "outputs": []
    },
    {
      "cell_type": "markdown",
      "metadata": {
        "id": "t2QcXTqYltuV",
        "colab_type": "text"
      },
      "source": [
        "n this way, train, val, test set will be 60%, 20%, 20% of the dataset respectively"
      ]
    },
    {
      "cell_type": "code",
      "metadata": {
        "id": "DPRwfaZalpJr",
        "colab_type": "code",
        "colab": {
          "base_uri": "https://localhost:8080/",
          "height": 34
        },
        "outputId": "d056692d-da58-4158-98d0-999b79b029be"
      },
      "source": [
        "print(X_train.shape,X_test.shape,X_val.shape,y_train.shape,y_test.shape,y_val.shape)"
      ],
      "execution_count": 37,
      "outputs": [
        {
          "output_type": "stream",
          "text": [
            "(322545, 11) (107516, 11) (107516, 11) (322545, 1) (107516, 1) (107516, 1)\n"
          ],
          "name": "stdout"
        }
      ]
    },
    {
      "cell_type": "markdown",
      "metadata": {
        "id": "kfQV4E3Yl2n9",
        "colab_type": "text"
      },
      "source": [
        "## Build and compile a deep learning model"
      ]
    },
    {
      "cell_type": "code",
      "metadata": {
        "id": "BVkyrHp_lxge",
        "colab_type": "code",
        "colab": {
          "base_uri": "https://localhost:8080/",
          "height": 258
        },
        "outputId": "837afa9d-9b0a-4423-d05a-9fa844868674"
      },
      "source": [
        "# Build the deep neural network\n",
        "model = Sequential()\n",
        "model.add(Dense(11, input_dim=11, init='uniform', activation='relu'))\n",
        "model.add(Dense(6, init='uniform', activation='relu'))\n",
        "model.add(Dense(1, init='uniform')) #Since its a regression problem, there is no need of activation for the output.\n",
        "   "
      ],
      "execution_count": 38,
      "outputs": [
        {
          "output_type": "stream",
          "text": [
            "WARNING: Logging before flag parsing goes to stderr.\n",
            "W0809 01:49:37.697913 140333417551744 deprecation_wrapper.py:119] From /usr/local/lib/python3.6/dist-packages/keras/backend/tensorflow_backend.py:74: The name tf.get_default_graph is deprecated. Please use tf.compat.v1.get_default_graph instead.\n",
            "\n",
            "/usr/local/lib/python3.6/dist-packages/ipykernel_launcher.py:2: UserWarning: Update your `Dense` call to the Keras 2 API: `Dense(11, input_dim=11, activation=\"relu\", kernel_initializer=\"uniform\")`\n",
            "  \n",
            "W0809 01:49:37.761697 140333417551744 deprecation_wrapper.py:119] From /usr/local/lib/python3.6/dist-packages/keras/backend/tensorflow_backend.py:517: The name tf.placeholder is deprecated. Please use tf.compat.v1.placeholder instead.\n",
            "\n",
            "W0809 01:49:37.772171 140333417551744 deprecation_wrapper.py:119] From /usr/local/lib/python3.6/dist-packages/keras/backend/tensorflow_backend.py:4138: The name tf.random_uniform is deprecated. Please use tf.random.uniform instead.\n",
            "\n",
            "/usr/local/lib/python3.6/dist-packages/ipykernel_launcher.py:3: UserWarning: Update your `Dense` call to the Keras 2 API: `Dense(6, activation=\"relu\", kernel_initializer=\"uniform\")`\n",
            "  This is separate from the ipykernel package so we can avoid doing imports until\n",
            "/usr/local/lib/python3.6/dist-packages/ipykernel_launcher.py:4: UserWarning: Update your `Dense` call to the Keras 2 API: `Dense(1, kernel_initializer=\"uniform\")`\n",
            "  after removing the cwd from sys.path.\n"
          ],
          "name": "stderr"
        }
      ]
    },
    {
      "cell_type": "code",
      "metadata": {
        "id": "PihoIxFGurHH",
        "colab_type": "code",
        "colab": {}
      },
      "source": [
        "from keras.wrappers.scikit_learn import KerasRegressor\n",
        "from sklearn.model_selection import cross_val_score\n",
        "from sklearn.model_selection import KFold\n",
        "from sklearn.preprocessing import StandardScaler\n",
        "from sklearn.pipeline import Pipeline\n",
        "import seaborn as sns\n",
        "import numpy as np\n",
        "import pandas as pd"
      ],
      "execution_count": 0,
      "outputs": []
    },
    {
      "cell_type": "markdown",
      "metadata": {
        "id": "dSbIsusKiPmv",
        "colab_type": "text"
      },
      "source": [
        "Since its a regression problem, the log loss function that we will be using would be the \"mean-squared-error\" instead on binary_classifierentropy."
      ]
    },
    {
      "cell_type": "code",
      "metadata": {
        "id": "pc7pX5usmZE1",
        "colab_type": "code",
        "colab": {}
      },
      "source": [
        "# Compile the DNN\n",
        "\n",
        "model.compile(loss='mean_squared_error', optimizer='adam', metrics=['accuracy'])"
      ],
      "execution_count": 0,
      "outputs": []
    },
    {
      "cell_type": "code",
      "metadata": {
        "id": "Bsvl05_6MGyA",
        "colab_type": "code",
        "colab": {}
      },
      "source": [
        "from matplotlib import pyplot as plt"
      ],
      "execution_count": 0,
      "outputs": []
    },
    {
      "cell_type": "code",
      "metadata": {
        "id": "XaCk1Ckn68c0",
        "colab_type": "code",
        "colab": {
          "base_uri": "https://localhost:8080/",
          "height": 1000
        },
        "outputId": "347c1e15-51db-464a-af36-41f0f20b0b96"
      },
      "source": [
        "# Fit the DNN with your train data\n",
        "\n",
        "history = model.fit(X_train, y_train, validation_data=(X_val, y_val), nb_epoch=25, batch_size=5)\n",
        "plt.plot(history.history['acc'])\n",
        "plt.plot(history.history['val_acc'])\n",
        "plt.title('model accuracy')\n",
        "plt.ylabel('accuracy')\n",
        "plt.xlabel('epoch')\n",
        "plt.legend(['train','val'],loc = 'upper left')\n",
        "plt.show()"
      ],
      "execution_count": 69,
      "outputs": [
        {
          "output_type": "stream",
          "text": [
            "/usr/local/lib/python3.6/dist-packages/ipykernel_launcher.py:2: UserWarning: The `nb_epoch` argument in `fit` has been renamed `epochs`.\n",
            "  \n"
          ],
          "name": "stderr"
        },
        {
          "output_type": "stream",
          "text": [
            "Train on 322545 samples, validate on 107516 samples\n",
            "Epoch 1/25\n",
            "322545/322545 [==============================] - 82s 253us/step - loss: 12142804.2178 - acc: 9.3010e-05 - val_loss: 11987409.6504 - val_acc: 3.7204e-05\n",
            "Epoch 2/25\n",
            "322545/322545 [==============================] - 80s 249us/step - loss: 12119190.8127 - acc: 7.7509e-05 - val_loss: 11968404.3845 - val_acc: 9.3009e-05\n",
            "Epoch 3/25\n",
            "322545/322545 [==============================] - 81s 250us/step - loss: 12099807.6118 - acc: 1.0541e-04 - val_loss: 11947015.3790 - val_acc: 7.4408e-05\n",
            "Epoch 4/25\n",
            "322545/322545 [==============================] - 81s 251us/step - loss: 12081330.0591 - acc: 1.1161e-04 - val_loss: 11969443.8827 - val_acc: 9.3009e-05\n",
            "Epoch 5/25\n",
            "322545/322545 [==============================] - 82s 253us/step - loss: 12059475.6372 - acc: 9.6111e-05 - val_loss: 11886819.5941 - val_acc: 8.3708e-05\n",
            "Epoch 6/25\n",
            "322545/322545 [==============================] - 80s 249us/step - loss: 12045822.1073 - acc: 9.9211e-05 - val_loss: 11979838.0058 - val_acc: 1.0231e-04\n",
            "Epoch 7/25\n",
            "322545/322545 [==============================] - 81s 251us/step - loss: 12035855.9853 - acc: 7.7509e-05 - val_loss: 11883831.4982 - val_acc: 8.3708e-05\n",
            "Epoch 8/25\n",
            "322545/322545 [==============================] - 82s 253us/step - loss: 12021810.9300 - acc: 1.0541e-04 - val_loss: 11931794.7991 - val_acc: 7.4408e-05\n",
            "Epoch 9/25\n",
            "322545/322545 [==============================] - 79s 244us/step - loss: 12013997.7738 - acc: 9.3010e-05 - val_loss: 11872111.6654 - val_acc: 2.0462e-04\n",
            "Epoch 10/25\n",
            "322545/322545 [==============================] - 77s 238us/step - loss: 12006450.3739 - acc: 1.0231e-04 - val_loss: 11842200.6644 - val_acc: 7.4408e-05\n",
            "Epoch 11/25\n",
            "322545/322545 [==============================] - 76s 235us/step - loss: 11993729.1884 - acc: 7.4408e-05 - val_loss: 11824490.4573 - val_acc: 5.5806e-05\n",
            "Epoch 12/25\n",
            "322545/322545 [==============================] - 77s 237us/step - loss: 11989969.5954 - acc: 1.0541e-04 - val_loss: 11812097.6345 - val_acc: 3.7204e-05\n",
            "Epoch 13/25\n",
            "322545/322545 [==============================] - 77s 239us/step - loss: 11980702.6187 - acc: 9.3010e-05 - val_loss: 11859009.7804 - val_acc: 7.4408e-05\n",
            "Epoch 14/25\n",
            "322545/322545 [==============================] - 76s 237us/step - loss: 11983175.2201 - acc: 8.9910e-05 - val_loss: 11804857.9112 - val_acc: 7.4408e-05\n",
            "Epoch 15/25\n",
            "322545/322545 [==============================] - 76s 237us/step - loss: 11973093.0126 - acc: 7.1308e-05 - val_loss: 11831041.3708 - val_acc: 6.5107e-05\n",
            "Epoch 16/25\n",
            "322545/322545 [==============================] - 77s 239us/step - loss: 11970019.4017 - acc: 7.7509e-05 - val_loss: 11811559.4647 - val_acc: 1.1161e-04\n",
            "Epoch 17/25\n",
            "322545/322545 [==============================] - 78s 240us/step - loss: 11964482.6947 - acc: 8.9910e-05 - val_loss: 11794352.5048 - val_acc: 1.0231e-04\n",
            "Epoch 18/25\n",
            "322545/322545 [==============================] - 81s 252us/step - loss: 11961970.2391 - acc: 1.0851e-04 - val_loss: 11829041.2195 - val_acc: 7.4408e-05\n",
            "Epoch 19/25\n",
            "322545/322545 [==============================] - 83s 257us/step - loss: 11959067.9184 - acc: 8.6810e-05 - val_loss: 11797110.9480 - val_acc: 7.4408e-05\n",
            "Epoch 20/25\n",
            "322545/322545 [==============================] - 86s 265us/step - loss: 11955296.0632 - acc: 8.6810e-05 - val_loss: 11771884.9908 - val_acc: 4.6505e-05\n",
            "Epoch 21/25\n",
            "322545/322545 [==============================] - 83s 257us/step - loss: 11953294.2593 - acc: 9.9211e-05 - val_loss: 11803863.3811 - val_acc: 7.4408e-05\n",
            "Epoch 22/25\n",
            "322545/322545 [==============================] - 85s 263us/step - loss: 11950898.0093 - acc: 1.1781e-04 - val_loss: 11830632.0366 - val_acc: 9.3009e-05\n",
            "Epoch 23/25\n",
            "322545/322545 [==============================] - 85s 265us/step - loss: 11948481.4375 - acc: 8.6810e-05 - val_loss: 11845450.9453 - val_acc: 1.3021e-04\n",
            "Epoch 24/25\n",
            "322545/322545 [==============================] - 87s 269us/step - loss: 11945165.6240 - acc: 1.0541e-04 - val_loss: 11782495.2884 - val_acc: 1.0231e-04\n",
            "Epoch 25/25\n",
            "322545/322545 [==============================] - 87s 268us/step - loss: 11948483.9588 - acc: 8.6810e-05 - val_loss: 11997294.2905 - val_acc: 3.7204e-05\n"
          ],
          "name": "stdout"
        },
        {
          "output_type": "display_data",
          "data": {
            "image/png": "[encoded data removed]",
            "text/plain": [
              "<Figure size 432x288 with 1 Axes>"
            ]
          },
          "metadata": {
            "tags": []
          }
        }
      ]
    },
    {
      "cell_type": "code",
      "metadata": {
        "id": "AsdTtn8B69Zv",
        "colab_type": "code",
        "colab": {
          "base_uri": "https://localhost:8080/",
          "height": 295
        },
        "outputId": "657ac6ee-3826-4735-de39-41d30c6fe970"
      },
      "source": [
        "plt.plot(history.history['loss'])\n",
        "plt.plot(history.history['val_loss'])\n",
        "plt.title('model loss')\n",
        "plt.ylabel('loss')\n",
        "plt.xlabel('epoch')\n",
        "plt.legend(['train', 'val'], loc='upper left')\n",
        "plt.show()"
      ],
      "execution_count": 44,
      "outputs": [
        {
          "output_type": "display_data",
          "data": {
            "image/png": "[encoded data removed]",
            "text/plain": [
              "<Figure size 432x288 with 1 Axes>"
            ]
          },
          "metadata": {
            "tags": []
          }
        }
      ]
    },
    {
      "cell_type": "markdown",
      "metadata": {
        "id": "VUP1ju-GU5iD",
        "colab_type": "text"
      },
      "source": [
        "## Summary: \n",
        "To find out if their model is overfitting, data scientists use a technique called cross-validation, where they split their data into two parts - the training set, and the validation set. The training set is used to train the model, while the validation set is only used to evaluate the model's performance.\n",
        "\n",
        "Metrics on the training set let you see how your model is progressing in terms of it's training, but it's metrics on the validation set that let you get a measure of the quality of your model - how well it's able to make new predictions based on data it hasn't seen before.\n",
        "\n",
        "With this in mind, loss and acc are measures of loss and accuracy on the training set, while val_loss and val_acc are measures of loss and accuracy on the validation set.\n",
        "At the moment the dnn model has an accuracy of ~0.0225% on the training set and ~0.0200% on the validation set. This means that you can expect your model to perform with ~0.0200% accuracy on new data.\n",
        "\n",
        "I notice that as your epochs goes from 10 to 15, your acc metric increases, while your val_acc metric decreases. This means that your model is fitting the training set better, but is losing it's ability to predict on new data, indicating that your model is starting to fit on noise and is beginning to overfit."
      ]
    },
    {
      "cell_type": "markdown",
      "metadata": {
        "id": "mNboPZ5nWM_c",
        "colab_type": "text"
      },
      "source": [
        "### Evaluating the model on the test set"
      ]
    },
    {
      "cell_type": "code",
      "metadata": {
        "id": "1ES4-N8ZWQ9w",
        "colab_type": "code",
        "colab": {
          "base_uri": "https://localhost:8080/",
          "height": 51
        },
        "outputId": "814dd542-77a0-4ea6-d192-b791f43be1e4"
      },
      "source": [
        "scores = model.evaluate(X_test, y_test)\n",
        "print (\"Accuracy: %.2f%%\" %(scores[1]*100))"
      ],
      "execution_count": 45,
      "outputs": [
        {
          "output_type": "stream",
          "text": [
            "107516/107516 [==============================] - 2s 20us/step\n",
            "Accuracy: 0.01%\n"
          ],
          "name": "stdout"
        }
      ]
    },
    {
      "cell_type": "markdown",
      "metadata": {
        "id": "uOZRCBEHWthd",
        "colab_type": "text"
      },
      "source": [
        "### To plot the auc and roc curves"
      ]
    },
    {
      "cell_type": "markdown",
      "metadata": {
        "id": "LfoZ0LxJW46D",
        "colab_type": "text"
      },
      "source": [
        "## What are ROC and AUC and what can they do?"
      ]
    },
    {
      "cell_type": "markdown",
      "metadata": {
        "id": "Hyj_XhTuXGwp",
        "colab_type": "text"
      },
      "source": [
        "Receiver operating characteristic curve a.k.a ROC is a graphic plot illustrates the diagnostic ability of a binary classifier system as its discrimination threshold is varied. The critical point here is \"binary classifier\" and \"varying threshold\". I will show you how to plot ROC for multi-label classifier by the one-vs-all approach as well.\n",
        "\n",
        "Area Under the Curve, a.k.a. AUC is the percentage of this area that is under this ROC curve, ranging between 0~1.\n",
        "What can they do?\n",
        "\n",
        "ROC is a great way to visualize the performance of a binary classifier, and AUC is one single number to summarize a classifier's performance by assessing the ranking regarding separation of the two classes. The higher, the better.\n",
        "In the following two sections, I will show you how to plot the ROC and calculate the AUC for Keras classifiers, both binary and multi-label ones."
      ]
    },
    {
      "cell_type": "markdown",
      "metadata": {
        "id": "t2xBCEO9XU1V",
        "colab_type": "text"
      },
      "source": [
        "### ROC, AUC "
      ]
    },
    {
      "cell_type": "markdown",
      "metadata": {
        "id": "8_AMiTknUqrR",
        "colab_type": "text"
      },
      "source": [
        "#### ANSWER : \n",
        "\n",
        "Since this is a regression problem, there is no such thing as an ROC Curve for the dataset. Hence there is no requirement to plot the ROC,AUC curves for this particular dataset."
      ]
    },
    {
      "cell_type": "markdown",
      "metadata": {
        "id": "Bkm90dBzd-xF",
        "colab_type": "text"
      },
      "source": [
        "## Conclusion :"
      ]
    },
    {
      "cell_type": "markdown",
      "metadata": {
        "id": "Qq8qu8lfeFlk",
        "colab_type": "text"
      },
      "source": [
        "Standard scaler was used in order to pre process the data in order to uniformly scale the complete dataset.It essentially shrinks the range such that the range is now between 0 and 1 (or -1 to 1 if there are negative values). This scaler works better for cases in which the standard scaler might not work so well. If the distribution is not Gaussian or the standard deviation is very small, the min-max scaler works better.\n",
        "\n",
        "The dataset was divided into three sets : train, test and validation and deep neural network model was built using the train data set by tuning the hyper parameter with the validation data and finally the performance was evaluated on the test data set. The accuracy found was 0.01 %.\n",
        "\n",
        "The plots of epoch versus the train set accuracy and validation set accuracy as well as epoch versus train set loss and test set loss were plotted and it was found that as epoch goes from 10 to 15, your acc metric increases, while your val_acc metric decreases. This means that your model is fitting the training set better, but is losing it's ability to predict on new data, indicating that your model is starting to fit on noise and is beginning to overfit.\n",
        "\n",
        "Finally, we cannot plot Receiver operating characteristic (ROC) curve on a regression dataset."
      ]
    },
    {
      "cell_type": "markdown",
      "metadata": {
        "id": "m6z5HgikfWHd",
        "colab_type": "text"
      },
      "source": [
        "## Contribution Statement :"
      ]
    },
    {
      "cell_type": "markdown",
      "metadata": {
        "id": "cpvPvIr0fdUd",
        "colab_type": "text"
      },
      "source": [
        "Did the following :\n",
        "\n",
        "1. Normal EDA - Replaced all the null values with '0' and handled the non numerical data and converted them into numerical data.\n",
        "\n",
        "2. Preprocessing of the data using Standard Scaler.\n",
        "\n",
        "3. Built a DNN model on train set, tuning it on the validation set and testing it on the test set.\n",
        "\n",
        "Code by self -------- 60%\n",
        "\n",
        "Code referred ------- 40%"
      ]
    },
    {
      "cell_type": "markdown",
      "metadata": {
        "id": "J5qFjT5ZgC2g",
        "colab_type": "text"
      },
      "source": [
        "## Citations : "
      ]
    },
    {
      "cell_type": "markdown",
      "metadata": {
        "id": "qCC46zNvgPLy",
        "colab_type": "text"
      },
      "source": [
        "Standard scaler -------- https://scikit-learn.org/stable/modules/generated/sklearn.preprocessing.StandardScaler.html\n",
        "\n",
        "Information about DNN ---------- https://skymind.com/wiki/neural-network\n",
        "\n",
        "Information about dataset ------------ https://www.kaggle.com\n",
        "\n",
        "information about DNN with regression --------- https://towardsdatascience.com/deep-neural-networks-for-regression-problems-81321897ca33"
      ]
    },
    {
      "cell_type": "markdown",
      "metadata": {
        "id": "7gkgNajlgyTZ",
        "colab_type": "text"
      },
      "source": [
        "## License :"
      ]
    },
    {
      "cell_type": "markdown",
      "metadata": {
        "id": "23NOe7dEhJ9E",
        "colab_type": "text"
      },
      "source": [
        "Copyright <2019> Ria Rajput Permission is hereby granted, free of charge, to any person obtaining a copy of this notebook and associated documentation files (the \"Software\"), to deal in the Software without restriction, including without limitation the rights to use, copy, modify, merge, publish, distribute, sublicense, and/or sell copies of the Software, and to permit persons to whom the Software is furnished to do so, subject to the following conditions: The above copyright notice and this permission notice shall be included in all copies or substantial portions of the Software. THIS SOFTWARE IS PROVIDED BY THE COPYRIGHT HOLDERS AND CONTRIBUTORS \"AS IS\"AND ANY EXPRESS OR IMPLIED WARRANTIES, INCLUDING, BUT NOT LIMITED TO, THE IMPLIED WARRANTIES OF MERCHANTABILITY AND FITNESS FOR A PARTICULAR PURPOSE ARE DISCLAIMED. IN NO EVENT SHALL THE COPYRIGHT HOLDER OR CONTRIBUTORS BE LIABLE FOR ANY DIRECT, INDIRECT, INCIDENTAL, SPECIAL, EXEMPLARY, OR CONSEQUENTIAL DAMAGES (INCLUDING, BUT NOT LIMITED TO, PROCUREMENT OF SUBSTITUTE GOODS OR SERVICES; LOSS OF USE, DATA, OR PROFITS; OR BUSINESS INTERRUPTION) HOWEVER CAUSED AND ON ANY THEORY OF LIABILITY, WHETHER IN CONTRACT, STRICT LIABILITY, OR TORT (INCLUDING NEGLIGENCE OR OTHERWISE) ARISING IN ANY WAY OUT OF THE USE OF THIS SOFTWARE, EVEN IF ADVISED OF THE POSSIBILITY OF SUCH DAMAGE."
      ]
    },
    {
      "cell_type": "code",
      "metadata": {
        "id": "hpxtMOICVAHv",
        "colab_type": "code",
        "colab": {}
      },
      "source": [
        ""
      ],
      "execution_count": 0,
      "outputs": []
    }
  ]
}